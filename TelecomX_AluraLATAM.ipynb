{
  "nbformat": 4,
  "nbformat_minor": 0,
  "metadata": {
    "colab": {
      "provenance": [],
      "authorship_tag": "ABX9TyM3jM5ffuF2xUT07g+k9zFQ",
      "include_colab_link": true
    },
    "kernelspec": {
      "name": "python3",
      "display_name": "Python 3"
    },
    "language_info": {
      "name": "python"
    }
  },
  "cells": [
    {
      "cell_type": "markdown",
      "metadata": {
        "id": "view-in-github",
        "colab_type": "text"
      },
      "source": [
        "<a href=\"https://colab.research.google.com/github/Stiven2308/Challenge3-data-science-alura-latam/blob/main/TelecomX_AluraLATAM.ipynb\" target=\"_parent\"><img src=\"https://colab.research.google.com/assets/colab-badge.svg\" alt=\"Open In Colab\"/></a>"
      ]
    },
    {
      "cell_type": "code",
      "execution_count": 1,
      "metadata": {
        "id": "87qfmG4uTZgY",
        "outputId": "bee80db8-8e9f-4bf4-f423-b6b67df7f55a",
        "colab": {
          "base_uri": "https://localhost:8080/"
        }
      },
      "outputs": [
        {
          "output_type": "execute_result",
          "data": {
            "text/plain": [
              "(7043, 24)"
            ]
          },
          "metadata": {},
          "execution_count": 1
        }
      ],
      "source": [
        "import pandas as pd\n",
        "#cargar el archivo de datos\n",
        "data = pd.read_csv('https://raw.githubusercontent.com/Stiven2308/Challenge3-data-science-alura-latam/refs/heads/main/DB_tratados.csv',sep=',')\n",
        "data.shape"
      ]
    }
  ]
}