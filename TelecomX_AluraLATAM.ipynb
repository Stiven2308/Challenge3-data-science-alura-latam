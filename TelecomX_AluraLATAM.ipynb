{
  "nbformat": 4,
  "nbformat_minor": 0,
  "metadata": {
    "colab": {
      "provenance": [],
      "authorship_tag": "ABX9TyPiRp0/+N9q4AIfK/627OHM",
      "include_colab_link": true
    },
    "kernelspec": {
      "name": "python3",
      "display_name": "Python 3"
    },
    "language_info": {
      "name": "python"
    }
  },
  "cells": [
    {
      "cell_type": "markdown",
      "metadata": {
        "id": "view-in-github",
        "colab_type": "text"
      },
      "source": [
        "<a href=\"https://colab.research.google.com/github/Stiven2308/Challenge3-data-science-alura-latam/blob/main/TelecomX_AluraLATAM.ipynb\" target=\"_parent\"><img src=\"https://colab.research.google.com/assets/colab-badge.svg\" alt=\"Open In Colab\"/></a>"
      ]
    },
    {
      "cell_type": "markdown",
      "source": [
        "# **Importación de datos:**"
      ],
      "metadata": {
        "id": "lOMWqZ7IhZfK"
      }
    },
    {
      "cell_type": "code",
      "execution_count": 1,
      "metadata": {
        "id": "87qfmG4uTZgY",
        "colab": {
          "base_uri": "https://localhost:8080/"
        },
        "outputId": "f36c3f2f-d6c2-49bc-a615-ebbf2fbba1eb"
      },
      "outputs": [
        {
          "output_type": "execute_result",
          "data": {
            "text/plain": [
              "(7043, 24)"
            ]
          },
          "metadata": {},
          "execution_count": 1
        }
      ],
      "source": [
        "import pandas as pd\n",
        "#cargar el archivo de datos\n",
        "data= pd.read_csv('https://raw.githubusercontent.com/Stiven2308/Challenge3-data-science-alura-latam/refs/heads/main/DB_tratados.csv',sep=',')\n",
        "data.shape"
      ]
    },
    {
      "cell_type": "code",
      "source": [
        "#primeras filas del archivo de datos\n",
        "data.head()"
      ],
      "metadata": {
        "colab": {
          "base_uri": "https://localhost:8080/",
          "height": 340
        },
        "id": "2yWI18WrhK9O",
        "outputId": "0558201f-2f2b-409b-ee70-d3f52e1b49de"
      },
      "execution_count": 2,
      "outputs": [
        {
          "output_type": "execute_result",
          "data": {
            "text/plain": [
              "   ID Cliente  Abandono Género  Mayor de 65 años  Tiene Pareja  \\\n",
              "0  0002-ORFBO         0      F             False             1   \n",
              "1  0003-MKNFE         0      M             False             0   \n",
              "2  0004-TLHLJ         1      M             False             0   \n",
              "3  0011-IGKFF         1      M              True             1   \n",
              "4  0013-EXCHZ         1      F              True             1   \n",
              "\n",
              "   Tiene Dependientes  Duración del Contrato (meses)  Servicio Telefónico  \\\n",
              "0                   1                              9                    1   \n",
              "1                   0                              9                    1   \n",
              "2                   0                              4                    1   \n",
              "3                   0                             13                    1   \n",
              "4                   0                              3                    1   \n",
              "\n",
              "   Múltiples Líneas Servicio de Internet  ...  TV por Cable  \\\n",
              "0                 0                  DSL  ...             1   \n",
              "1                 1                  DSL  ...             0   \n",
              "2                 0         Fibra Óptica  ...             0   \n",
              "3                 0         Fibra Óptica  ...             1   \n",
              "4                 0         Fibra Óptica  ...             1   \n",
              "\n",
              "   Streaming de Películas  Tipo de Contrato  Facturación Sin Papel  \\\n",
              "0                       0             Anual                      1   \n",
              "1                       1           Mensual                      0   \n",
              "2                       0           Mensual                      1   \n",
              "3                       1           Mensual                      1   \n",
              "4                       0           Mensual                      1   \n",
              "\n",
              "       Método de Pago  Costo Mensual Costo Total  Costo Diario  \\\n",
              "0   Cheque por Correo           65.6      593.30          2.19   \n",
              "1   Cheque por Correo           59.9      542.40          2.00   \n",
              "2  Cheque electrónico           73.9      280.85          2.46   \n",
              "3  Cheque electrónico           98.0     1237.85          3.27   \n",
              "4   Cheque por Correo           83.9      267.40          2.80   \n",
              "\n",
              "  Rango de Contrato  Cantidad de Servicios Contratados  \n",
              "0              0-10                                  3  \n",
              "1              0-10                                  2  \n",
              "2              0-10                                  1  \n",
              "3             11-20                                  4  \n",
              "4              0-10                                  2  \n",
              "\n",
              "[5 rows x 24 columns]"
            ],
            "text/html": [
              "\n",
              "  <div id=\"df-123d92c8-e6ba-4098-acfa-e60e559eaade\" class=\"colab-df-container\">\n",
              "    <div>\n",
              "<style scoped>\n",
              "    .dataframe tbody tr th:only-of-type {\n",
              "        vertical-align: middle;\n",
              "    }\n",
              "\n",
              "    .dataframe tbody tr th {\n",
              "        vertical-align: top;\n",
              "    }\n",
              "\n",
              "    .dataframe thead th {\n",
              "        text-align: right;\n",
              "    }\n",
              "</style>\n",
              "<table border=\"1\" class=\"dataframe\">\n",
              "  <thead>\n",
              "    <tr style=\"text-align: right;\">\n",
              "      <th></th>\n",
              "      <th>ID Cliente</th>\n",
              "      <th>Abandono</th>\n",
              "      <th>Género</th>\n",
              "      <th>Mayor de 65 años</th>\n",
              "      <th>Tiene Pareja</th>\n",
              "      <th>Tiene Dependientes</th>\n",
              "      <th>Duración del Contrato (meses)</th>\n",
              "      <th>Servicio Telefónico</th>\n",
              "      <th>Múltiples Líneas</th>\n",
              "      <th>Servicio de Internet</th>\n",
              "      <th>...</th>\n",
              "      <th>TV por Cable</th>\n",
              "      <th>Streaming de Películas</th>\n",
              "      <th>Tipo de Contrato</th>\n",
              "      <th>Facturación Sin Papel</th>\n",
              "      <th>Método de Pago</th>\n",
              "      <th>Costo Mensual</th>\n",
              "      <th>Costo Total</th>\n",
              "      <th>Costo Diario</th>\n",
              "      <th>Rango de Contrato</th>\n",
              "      <th>Cantidad de Servicios Contratados</th>\n",
              "    </tr>\n",
              "  </thead>\n",
              "  <tbody>\n",
              "    <tr>\n",
              "      <th>0</th>\n",
              "      <td>0002-ORFBO</td>\n",
              "      <td>0</td>\n",
              "      <td>F</td>\n",
              "      <td>False</td>\n",
              "      <td>1</td>\n",
              "      <td>1</td>\n",
              "      <td>9</td>\n",
              "      <td>1</td>\n",
              "      <td>0</td>\n",
              "      <td>DSL</td>\n",
              "      <td>...</td>\n",
              "      <td>1</td>\n",
              "      <td>0</td>\n",
              "      <td>Anual</td>\n",
              "      <td>1</td>\n",
              "      <td>Cheque por Correo</td>\n",
              "      <td>65.6</td>\n",
              "      <td>593.30</td>\n",
              "      <td>2.19</td>\n",
              "      <td>0-10</td>\n",
              "      <td>3</td>\n",
              "    </tr>\n",
              "    <tr>\n",
              "      <th>1</th>\n",
              "      <td>0003-MKNFE</td>\n",
              "      <td>0</td>\n",
              "      <td>M</td>\n",
              "      <td>False</td>\n",
              "      <td>0</td>\n",
              "      <td>0</td>\n",
              "      <td>9</td>\n",
              "      <td>1</td>\n",
              "      <td>1</td>\n",
              "      <td>DSL</td>\n",
              "      <td>...</td>\n",
              "      <td>0</td>\n",
              "      <td>1</td>\n",
              "      <td>Mensual</td>\n",
              "      <td>0</td>\n",
              "      <td>Cheque por Correo</td>\n",
              "      <td>59.9</td>\n",
              "      <td>542.40</td>\n",
              "      <td>2.00</td>\n",
              "      <td>0-10</td>\n",
              "      <td>2</td>\n",
              "    </tr>\n",
              "    <tr>\n",
              "      <th>2</th>\n",
              "      <td>0004-TLHLJ</td>\n",
              "      <td>1</td>\n",
              "      <td>M</td>\n",
              "      <td>False</td>\n",
              "      <td>0</td>\n",
              "      <td>0</td>\n",
              "      <td>4</td>\n",
              "      <td>1</td>\n",
              "      <td>0</td>\n",
              "      <td>Fibra Óptica</td>\n",
              "      <td>...</td>\n",
              "      <td>0</td>\n",
              "      <td>0</td>\n",
              "      <td>Mensual</td>\n",
              "      <td>1</td>\n",
              "      <td>Cheque electrónico</td>\n",
              "      <td>73.9</td>\n",
              "      <td>280.85</td>\n",
              "      <td>2.46</td>\n",
              "      <td>0-10</td>\n",
              "      <td>1</td>\n",
              "    </tr>\n",
              "    <tr>\n",
              "      <th>3</th>\n",
              "      <td>0011-IGKFF</td>\n",
              "      <td>1</td>\n",
              "      <td>M</td>\n",
              "      <td>True</td>\n",
              "      <td>1</td>\n",
              "      <td>0</td>\n",
              "      <td>13</td>\n",
              "      <td>1</td>\n",
              "      <td>0</td>\n",
              "      <td>Fibra Óptica</td>\n",
              "      <td>...</td>\n",
              "      <td>1</td>\n",
              "      <td>1</td>\n",
              "      <td>Mensual</td>\n",
              "      <td>1</td>\n",
              "      <td>Cheque electrónico</td>\n",
              "      <td>98.0</td>\n",
              "      <td>1237.85</td>\n",
              "      <td>3.27</td>\n",
              "      <td>11-20</td>\n",
              "      <td>4</td>\n",
              "    </tr>\n",
              "    <tr>\n",
              "      <th>4</th>\n",
              "      <td>0013-EXCHZ</td>\n",
              "      <td>1</td>\n",
              "      <td>F</td>\n",
              "      <td>True</td>\n",
              "      <td>1</td>\n",
              "      <td>0</td>\n",
              "      <td>3</td>\n",
              "      <td>1</td>\n",
              "      <td>0</td>\n",
              "      <td>Fibra Óptica</td>\n",
              "      <td>...</td>\n",
              "      <td>1</td>\n",
              "      <td>0</td>\n",
              "      <td>Mensual</td>\n",
              "      <td>1</td>\n",
              "      <td>Cheque por Correo</td>\n",
              "      <td>83.9</td>\n",
              "      <td>267.40</td>\n",
              "      <td>2.80</td>\n",
              "      <td>0-10</td>\n",
              "      <td>2</td>\n",
              "    </tr>\n",
              "  </tbody>\n",
              "</table>\n",
              "<p>5 rows × 24 columns</p>\n",
              "</div>\n",
              "    <div class=\"colab-df-buttons\">\n",
              "\n",
              "  <div class=\"colab-df-container\">\n",
              "    <button class=\"colab-df-convert\" onclick=\"convertToInteractive('df-123d92c8-e6ba-4098-acfa-e60e559eaade')\"\n",
              "            title=\"Convert this dataframe to an interactive table.\"\n",
              "            style=\"display:none;\">\n",
              "\n",
              "  <svg xmlns=\"http://www.w3.org/2000/svg\" height=\"24px\" viewBox=\"0 -960 960 960\">\n",
              "    <path d=\"M120-120v-720h720v720H120Zm60-500h600v-160H180v160Zm220 220h160v-160H400v160Zm0 220h160v-160H400v160ZM180-400h160v-160H180v160Zm440 0h160v-160H620v160ZM180-180h160v-160H180v160Zm440 0h160v-160H620v160Z\"/>\n",
              "  </svg>\n",
              "    </button>\n",
              "\n",
              "  <style>\n",
              "    .colab-df-container {\n",
              "      display:flex;\n",
              "      gap: 12px;\n",
              "    }\n",
              "\n",
              "    .colab-df-convert {\n",
              "      background-color: #E8F0FE;\n",
              "      border: none;\n",
              "      border-radius: 50%;\n",
              "      cursor: pointer;\n",
              "      display: none;\n",
              "      fill: #1967D2;\n",
              "      height: 32px;\n",
              "      padding: 0 0 0 0;\n",
              "      width: 32px;\n",
              "    }\n",
              "\n",
              "    .colab-df-convert:hover {\n",
              "      background-color: #E2EBFA;\n",
              "      box-shadow: 0px 1px 2px rgba(60, 64, 67, 0.3), 0px 1px 3px 1px rgba(60, 64, 67, 0.15);\n",
              "      fill: #174EA6;\n",
              "    }\n",
              "\n",
              "    .colab-df-buttons div {\n",
              "      margin-bottom: 4px;\n",
              "    }\n",
              "\n",
              "    [theme=dark] .colab-df-convert {\n",
              "      background-color: #3B4455;\n",
              "      fill: #D2E3FC;\n",
              "    }\n",
              "\n",
              "    [theme=dark] .colab-df-convert:hover {\n",
              "      background-color: #434B5C;\n",
              "      box-shadow: 0px 1px 3px 1px rgba(0, 0, 0, 0.15);\n",
              "      filter: drop-shadow(0px 1px 2px rgba(0, 0, 0, 0.3));\n",
              "      fill: #FFFFFF;\n",
              "    }\n",
              "  </style>\n",
              "\n",
              "    <script>\n",
              "      const buttonEl =\n",
              "        document.querySelector('#df-123d92c8-e6ba-4098-acfa-e60e559eaade button.colab-df-convert');\n",
              "      buttonEl.style.display =\n",
              "        google.colab.kernel.accessAllowed ? 'block' : 'none';\n",
              "\n",
              "      async function convertToInteractive(key) {\n",
              "        const element = document.querySelector('#df-123d92c8-e6ba-4098-acfa-e60e559eaade');\n",
              "        const dataTable =\n",
              "          await google.colab.kernel.invokeFunction('convertToInteractive',\n",
              "                                                    [key], {});\n",
              "        if (!dataTable) return;\n",
              "\n",
              "        const docLinkHtml = 'Like what you see? Visit the ' +\n",
              "          '<a target=\"_blank\" href=https://colab.research.google.com/notebooks/data_table.ipynb>data table notebook</a>'\n",
              "          + ' to learn more about interactive tables.';\n",
              "        element.innerHTML = '';\n",
              "        dataTable['output_type'] = 'display_data';\n",
              "        await google.colab.output.renderOutput(dataTable, element);\n",
              "        const docLink = document.createElement('div');\n",
              "        docLink.innerHTML = docLinkHtml;\n",
              "        element.appendChild(docLink);\n",
              "      }\n",
              "    </script>\n",
              "  </div>\n",
              "\n",
              "\n",
              "    <div id=\"df-3bc0fa2b-439e-439e-84b5-bfc4234dd5bd\">\n",
              "      <button class=\"colab-df-quickchart\" onclick=\"quickchart('df-3bc0fa2b-439e-439e-84b5-bfc4234dd5bd')\"\n",
              "                title=\"Suggest charts\"\n",
              "                style=\"display:none;\">\n",
              "\n",
              "<svg xmlns=\"http://www.w3.org/2000/svg\" height=\"24px\"viewBox=\"0 0 24 24\"\n",
              "     width=\"24px\">\n",
              "    <g>\n",
              "        <path d=\"M19 3H5c-1.1 0-2 .9-2 2v14c0 1.1.9 2 2 2h14c1.1 0 2-.9 2-2V5c0-1.1-.9-2-2-2zM9 17H7v-7h2v7zm4 0h-2V7h2v10zm4 0h-2v-4h2v4z\"/>\n",
              "    </g>\n",
              "</svg>\n",
              "      </button>\n",
              "\n",
              "<style>\n",
              "  .colab-df-quickchart {\n",
              "      --bg-color: #E8F0FE;\n",
              "      --fill-color: #1967D2;\n",
              "      --hover-bg-color: #E2EBFA;\n",
              "      --hover-fill-color: #174EA6;\n",
              "      --disabled-fill-color: #AAA;\n",
              "      --disabled-bg-color: #DDD;\n",
              "  }\n",
              "\n",
              "  [theme=dark] .colab-df-quickchart {\n",
              "      --bg-color: #3B4455;\n",
              "      --fill-color: #D2E3FC;\n",
              "      --hover-bg-color: #434B5C;\n",
              "      --hover-fill-color: #FFFFFF;\n",
              "      --disabled-bg-color: #3B4455;\n",
              "      --disabled-fill-color: #666;\n",
              "  }\n",
              "\n",
              "  .colab-df-quickchart {\n",
              "    background-color: var(--bg-color);\n",
              "    border: none;\n",
              "    border-radius: 50%;\n",
              "    cursor: pointer;\n",
              "    display: none;\n",
              "    fill: var(--fill-color);\n",
              "    height: 32px;\n",
              "    padding: 0;\n",
              "    width: 32px;\n",
              "  }\n",
              "\n",
              "  .colab-df-quickchart:hover {\n",
              "    background-color: var(--hover-bg-color);\n",
              "    box-shadow: 0 1px 2px rgba(60, 64, 67, 0.3), 0 1px 3px 1px rgba(60, 64, 67, 0.15);\n",
              "    fill: var(--button-hover-fill-color);\n",
              "  }\n",
              "\n",
              "  .colab-df-quickchart-complete:disabled,\n",
              "  .colab-df-quickchart-complete:disabled:hover {\n",
              "    background-color: var(--disabled-bg-color);\n",
              "    fill: var(--disabled-fill-color);\n",
              "    box-shadow: none;\n",
              "  }\n",
              "\n",
              "  .colab-df-spinner {\n",
              "    border: 2px solid var(--fill-color);\n",
              "    border-color: transparent;\n",
              "    border-bottom-color: var(--fill-color);\n",
              "    animation:\n",
              "      spin 1s steps(1) infinite;\n",
              "  }\n",
              "\n",
              "  @keyframes spin {\n",
              "    0% {\n",
              "      border-color: transparent;\n",
              "      border-bottom-color: var(--fill-color);\n",
              "      border-left-color: var(--fill-color);\n",
              "    }\n",
              "    20% {\n",
              "      border-color: transparent;\n",
              "      border-left-color: var(--fill-color);\n",
              "      border-top-color: var(--fill-color);\n",
              "    }\n",
              "    30% {\n",
              "      border-color: transparent;\n",
              "      border-left-color: var(--fill-color);\n",
              "      border-top-color: var(--fill-color);\n",
              "      border-right-color: var(--fill-color);\n",
              "    }\n",
              "    40% {\n",
              "      border-color: transparent;\n",
              "      border-right-color: var(--fill-color);\n",
              "      border-top-color: var(--fill-color);\n",
              "    }\n",
              "    60% {\n",
              "      border-color: transparent;\n",
              "      border-right-color: var(--fill-color);\n",
              "    }\n",
              "    80% {\n",
              "      border-color: transparent;\n",
              "      border-right-color: var(--fill-color);\n",
              "      border-bottom-color: var(--fill-color);\n",
              "    }\n",
              "    90% {\n",
              "      border-color: transparent;\n",
              "      border-bottom-color: var(--fill-color);\n",
              "    }\n",
              "  }\n",
              "</style>\n",
              "\n",
              "      <script>\n",
              "        async function quickchart(key) {\n",
              "          const quickchartButtonEl =\n",
              "            document.querySelector('#' + key + ' button');\n",
              "          quickchartButtonEl.disabled = true;  // To prevent multiple clicks.\n",
              "          quickchartButtonEl.classList.add('colab-df-spinner');\n",
              "          try {\n",
              "            const charts = await google.colab.kernel.invokeFunction(\n",
              "                'suggestCharts', [key], {});\n",
              "          } catch (error) {\n",
              "            console.error('Error during call to suggestCharts:', error);\n",
              "          }\n",
              "          quickchartButtonEl.classList.remove('colab-df-spinner');\n",
              "          quickchartButtonEl.classList.add('colab-df-quickchart-complete');\n",
              "        }\n",
              "        (() => {\n",
              "          let quickchartButtonEl =\n",
              "            document.querySelector('#df-3bc0fa2b-439e-439e-84b5-bfc4234dd5bd button');\n",
              "          quickchartButtonEl.style.display =\n",
              "            google.colab.kernel.accessAllowed ? 'block' : 'none';\n",
              "        })();\n",
              "      </script>\n",
              "    </div>\n",
              "\n",
              "    </div>\n",
              "  </div>\n"
            ],
            "application/vnd.google.colaboratory.intrinsic+json": {
              "type": "dataframe",
              "variable_name": "data"
            }
          },
          "metadata": {},
          "execution_count": 2
        }
      ]
    },
    {
      "cell_type": "code",
      "source": [
        "# Análisis inicial\n",
        "data.info()"
      ],
      "metadata": {
        "colab": {
          "base_uri": "https://localhost:8080/"
        },
        "id": "IPFoqrEIiCHJ",
        "outputId": "842bf431-8893-40c0-fb43-b0cc98108399"
      },
      "execution_count": 3,
      "outputs": [
        {
          "output_type": "stream",
          "name": "stdout",
          "text": [
            "<class 'pandas.core.frame.DataFrame'>\n",
            "RangeIndex: 7043 entries, 0 to 7042\n",
            "Data columns (total 24 columns):\n",
            " #   Column                             Non-Null Count  Dtype  \n",
            "---  ------                             --------------  -----  \n",
            " 0   ID Cliente                         7043 non-null   object \n",
            " 1   Abandono                           7043 non-null   int64  \n",
            " 2   Género                             7043 non-null   object \n",
            " 3   Mayor de 65 años                   7043 non-null   bool   \n",
            " 4   Tiene Pareja                       7043 non-null   int64  \n",
            " 5   Tiene Dependientes                 7043 non-null   int64  \n",
            " 6   Duración del Contrato (meses)      7043 non-null   int64  \n",
            " 7   Servicio Telefónico                7043 non-null   int64  \n",
            " 8   Múltiples Líneas                   7043 non-null   int64  \n",
            " 9   Servicio de Internet               7043 non-null   object \n",
            " 10  Seguridad en Línea                 7043 non-null   int64  \n",
            " 11  Respaldo en Línea                  7043 non-null   int64  \n",
            " 12  Protección del Dispositivo         7043 non-null   int64  \n",
            " 13  Soporte Técnico                    7043 non-null   int64  \n",
            " 14  TV por Cable                       7043 non-null   int64  \n",
            " 15  Streaming de Películas             7043 non-null   int64  \n",
            " 16  Tipo de Contrato                   7043 non-null   object \n",
            " 17  Facturación Sin Papel              7043 non-null   int64  \n",
            " 18  Método de Pago                     7043 non-null   object \n",
            " 19  Costo Mensual                      7043 non-null   float64\n",
            " 20  Costo Total                        7043 non-null   float64\n",
            " 21  Costo Diario                       7043 non-null   float64\n",
            " 22  Rango de Contrato                  7043 non-null   object \n",
            " 23  Cantidad de Servicios Contratados  7043 non-null   int64  \n",
            "dtypes: bool(1), float64(3), int64(14), object(6)\n",
            "memory usage: 1.2+ MB\n"
          ]
        }
      ]
    },
    {
      "cell_type": "markdown",
      "source": [
        "# **Proporción actual de abandono de clientes:**\n",
        "\n"
      ],
      "metadata": {
        "id": "5SZqQTFvipnj"
      }
    },
    {
      "cell_type": "code",
      "source": [
        "print(\"\\nProporción de abandono de clientes:\")\n",
        "print(data['Abandono'].value_counts(normalize=True))"
      ],
      "metadata": {
        "colab": {
          "base_uri": "https://localhost:8080/"
        },
        "id": "BUIJNqbDilZA",
        "outputId": "1e2e3626-d205-43d9-82bf-299c877bbc0d"
      },
      "execution_count": 4,
      "outputs": [
        {
          "output_type": "stream",
          "name": "stdout",
          "text": [
            "\n",
            "Proporción de abandono de clientes:\n",
            "Abandono\n",
            "0    0.73463\n",
            "1    0.26537\n",
            "Name: proportion, dtype: float64\n"
          ]
        }
      ]
    },
    {
      "cell_type": "code",
      "source": [
        "import matplotlib.pyplot as plt\n",
        "import seaborn as sns\n",
        "\n",
        "# Datos de distribución de clases\n",
        "clases = ['No abandonan', 'Abandonan']\n",
        "porcentajes = [73.463, 26.537]\n",
        "# Configuración del gráfico\n",
        "plt.figure(figsize=(10, 6))\n",
        "sns.set_style(\"whitegrid\")\n",
        "# Gráfico de pastel (Pie Chart)\n",
        "plt.pie(porcentajes,\n",
        "        labels=clases,\n",
        "        autopct='%1.1f%%',\n",
        "        colors=['#2ecc71', '#e74c3c'],\n",
        "        explode=(0, 0.1))  # Separar ligeramente la clase de abandono\n",
        "\n",
        "plt.show()"
      ],
      "metadata": {
        "colab": {
          "base_uri": "https://localhost:8080/",
          "height": 499
        },
        "id": "Tsm2C_O_jOpB",
        "outputId": "4fad8579-3c6e-4d02-d83e-d7b2540c169f"
      },
      "execution_count": 5,
      "outputs": [
        {
          "output_type": "display_data",
          "data": {
            "text/plain": [
              "<Figure size 1000x600 with 1 Axes>"
            ],
            "image/png": "[encoded data removed]"
          },
          "metadata": {}
        }
      ]
    },
    {
      "cell_type": "markdown",
      "source": [
        "# **Variables categóricas:**"
      ],
      "metadata": {
        "id": "-Hv3HSLNkPeO"
      }
    },
    {
      "cell_type": "code",
      "source": [
        "#variables categóricas\n",
        "data.describe(include='object')"
      ],
      "metadata": {
        "colab": {
          "base_uri": "https://localhost:8080/",
          "height": 175
        },
        "id": "IYFUXQ_wkP2o",
        "outputId": "5d7116df-06f9-4ae4-f61e-9a1bff1bc0c2"
      },
      "execution_count": 6,
      "outputs": [
        {
          "output_type": "execute_result",
          "data": {
            "text/plain": [
              "        ID Cliente Género Servicio de Internet Tipo de Contrato  \\\n",
              "count         7043   7043                 7043             7043   \n",
              "unique        7043      2                    3                3   \n",
              "top     9995-HOTOH      M         Fibra Óptica          Mensual   \n",
              "freq             1   3555                 3096             3875   \n",
              "\n",
              "            Método de Pago Rango de Contrato  \n",
              "count                 7043              7043  \n",
              "unique                   4                 8  \n",
              "top     Cheque electrónico              0-10  \n",
              "freq                  2365              1854  "
            ],
            "text/html": [
              "\n",
              "  <div id=\"df-e5f19de5-3bf6-4083-8c18-011ba8d80ec8\" class=\"colab-df-container\">\n",
              "    <div>\n",
              "<style scoped>\n",
              "    .dataframe tbody tr th:only-of-type {\n",
              "        vertical-align: middle;\n",
              "    }\n",
              "\n",
              "    .dataframe tbody tr th {\n",
              "        vertical-align: top;\n",
              "    }\n",
              "\n",
              "    .dataframe thead th {\n",
              "        text-align: right;\n",
              "    }\n",
              "</style>\n",
              "<table border=\"1\" class=\"dataframe\">\n",
              "  <thead>\n",
              "    <tr style=\"text-align: right;\">\n",
              "      <th></th>\n",
              "      <th>ID Cliente</th>\n",
              "      <th>Género</th>\n",
              "      <th>Servicio de Internet</th>\n",
              "      <th>Tipo de Contrato</th>\n",
              "      <th>Método de Pago</th>\n",
              "      <th>Rango de Contrato</th>\n",
              "    </tr>\n",
              "  </thead>\n",
              "  <tbody>\n",
              "    <tr>\n",
              "      <th>count</th>\n",
              "      <td>7043</td>\n",
              "      <td>7043</td>\n",
              "      <td>7043</td>\n",
              "      <td>7043</td>\n",
              "      <td>7043</td>\n",
              "      <td>7043</td>\n",
              "    </tr>\n",
              "    <tr>\n",
              "      <th>unique</th>\n",
              "      <td>7043</td>\n",
              "      <td>2</td>\n",
              "      <td>3</td>\n",
              "      <td>3</td>\n",
              "      <td>4</td>\n",
              "      <td>8</td>\n",
              "    </tr>\n",
              "    <tr>\n",
              "      <th>top</th>\n",
              "      <td>9995-HOTOH</td>\n",
              "      <td>M</td>\n",
              "      <td>Fibra Óptica</td>\n",
              "      <td>Mensual</td>\n",
              "      <td>Cheque electrónico</td>\n",
              "      <td>0-10</td>\n",
              "    </tr>\n",
              "    <tr>\n",
              "      <th>freq</th>\n",
              "      <td>1</td>\n",
              "      <td>3555</td>\n",
              "      <td>3096</td>\n",
              "      <td>3875</td>\n",
              "      <td>2365</td>\n",
              "      <td>1854</td>\n",
              "    </tr>\n",
              "  </tbody>\n",
              "</table>\n",
              "</div>\n",
              "    <div class=\"colab-df-buttons\">\n",
              "\n",
              "  <div class=\"colab-df-container\">\n",
              "    <button class=\"colab-df-convert\" onclick=\"convertToInteractive('df-e5f19de5-3bf6-4083-8c18-011ba8d80ec8')\"\n",
              "            title=\"Convert this dataframe to an interactive table.\"\n",
              "            style=\"display:none;\">\n",
              "\n",
              "  <svg xmlns=\"http://www.w3.org/2000/svg\" height=\"24px\" viewBox=\"0 -960 960 960\">\n",
              "    <path d=\"M120-120v-720h720v720H120Zm60-500h600v-160H180v160Zm220 220h160v-160H400v160Zm0 220h160v-160H400v160ZM180-400h160v-160H180v160Zm440 0h160v-160H620v160ZM180-180h160v-160H180v160Zm440 0h160v-160H620v160Z\"/>\n",
              "  </svg>\n",
              "    </button>\n",
              "\n",
              "  <style>\n",
              "    .colab-df-container {\n",
              "      display:flex;\n",
              "      gap: 12px;\n",
              "    }\n",
              "\n",
              "    .colab-df-convert {\n",
              "      background-color: #E8F0FE;\n",
              "      border: none;\n",
              "      border-radius: 50%;\n",
              "      cursor: pointer;\n",
              "      display: none;\n",
              "      fill: #1967D2;\n",
              "      height: 32px;\n",
              "      padding: 0 0 0 0;\n",
              "      width: 32px;\n",
              "    }\n",
              "\n",
              "    .colab-df-convert:hover {\n",
              "      background-color: #E2EBFA;\n",
              "      box-shadow: 0px 1px 2px rgba(60, 64, 67, 0.3), 0px 1px 3px 1px rgba(60, 64, 67, 0.15);\n",
              "      fill: #174EA6;\n",
              "    }\n",
              "\n",
              "    .colab-df-buttons div {\n",
              "      margin-bottom: 4px;\n",
              "    }\n",
              "\n",
              "    [theme=dark] .colab-df-convert {\n",
              "      background-color: #3B4455;\n",
              "      fill: #D2E3FC;\n",
              "    }\n",
              "\n",
              "    [theme=dark] .colab-df-convert:hover {\n",
              "      background-color: #434B5C;\n",
              "      box-shadow: 0px 1px 3px 1px rgba(0, 0, 0, 0.15);\n",
              "      filter: drop-shadow(0px 1px 2px rgba(0, 0, 0, 0.3));\n",
              "      fill: #FFFFFF;\n",
              "    }\n",
              "  </style>\n",
              "\n",
              "    <script>\n",
              "      const buttonEl =\n",
              "        document.querySelector('#df-e5f19de5-3bf6-4083-8c18-011ba8d80ec8 button.colab-df-convert');\n",
              "      buttonEl.style.display =\n",
              "        google.colab.kernel.accessAllowed ? 'block' : 'none';\n",
              "\n",
              "      async function convertToInteractive(key) {\n",
              "        const element = document.querySelector('#df-e5f19de5-3bf6-4083-8c18-011ba8d80ec8');\n",
              "        const dataTable =\n",
              "          await google.colab.kernel.invokeFunction('convertToInteractive',\n",
              "                                                    [key], {});\n",
              "        if (!dataTable) return;\n",
              "\n",
              "        const docLinkHtml = 'Like what you see? Visit the ' +\n",
              "          '<a target=\"_blank\" href=https://colab.research.google.com/notebooks/data_table.ipynb>data table notebook</a>'\n",
              "          + ' to learn more about interactive tables.';\n",
              "        element.innerHTML = '';\n",
              "        dataTable['output_type'] = 'display_data';\n",
              "        await google.colab.output.renderOutput(dataTable, element);\n",
              "        const docLink = document.createElement('div');\n",
              "        docLink.innerHTML = docLinkHtml;\n",
              "        element.appendChild(docLink);\n",
              "      }\n",
              "    </script>\n",
              "  </div>\n",
              "\n",
              "\n",
              "    <div id=\"df-5a3ddccf-b893-4130-92ab-ab20cbfca316\">\n",
              "      <button class=\"colab-df-quickchart\" onclick=\"quickchart('df-5a3ddccf-b893-4130-92ab-ab20cbfca316')\"\n",
              "                title=\"Suggest charts\"\n",
              "                style=\"display:none;\">\n",
              "\n",
              "<svg xmlns=\"http://www.w3.org/2000/svg\" height=\"24px\"viewBox=\"0 0 24 24\"\n",
              "     width=\"24px\">\n",
              "    <g>\n",
              "        <path d=\"M19 3H5c-1.1 0-2 .9-2 2v14c0 1.1.9 2 2 2h14c1.1 0 2-.9 2-2V5c0-1.1-.9-2-2-2zM9 17H7v-7h2v7zm4 0h-2V7h2v10zm4 0h-2v-4h2v4z\"/>\n",
              "    </g>\n",
              "</svg>\n",
              "      </button>\n",
              "\n",
              "<style>\n",
              "  .colab-df-quickchart {\n",
              "      --bg-color: #E8F0FE;\n",
              "      --fill-color: #1967D2;\n",
              "      --hover-bg-color: #E2EBFA;\n",
              "      --hover-fill-color: #174EA6;\n",
              "      --disabled-fill-color: #AAA;\n",
              "      --disabled-bg-color: #DDD;\n",
              "  }\n",
              "\n",
              "  [theme=dark] .colab-df-quickchart {\n",
              "      --bg-color: #3B4455;\n",
              "      --fill-color: #D2E3FC;\n",
              "      --hover-bg-color: #434B5C;\n",
              "      --hover-fill-color: #FFFFFF;\n",
              "      --disabled-bg-color: #3B4455;\n",
              "      --disabled-fill-color: #666;\n",
              "  }\n",
              "\n",
              "  .colab-df-quickchart {\n",
              "    background-color: var(--bg-color);\n",
              "    border: none;\n",
              "    border-radius: 50%;\n",
              "    cursor: pointer;\n",
              "    display: none;\n",
              "    fill: var(--fill-color);\n",
              "    height: 32px;\n",
              "    padding: 0;\n",
              "    width: 32px;\n",
              "  }\n",
              "\n",
              "  .colab-df-quickchart:hover {\n",
              "    background-color: var(--hover-bg-color);\n",
              "    box-shadow: 0 1px 2px rgba(60, 64, 67, 0.3), 0 1px 3px 1px rgba(60, 64, 67, 0.15);\n",
              "    fill: var(--button-hover-fill-color);\n",
              "  }\n",
              "\n",
              "  .colab-df-quickchart-complete:disabled,\n",
              "  .colab-df-quickchart-complete:disabled:hover {\n",
              "    background-color: var(--disabled-bg-color);\n",
              "    fill: var(--disabled-fill-color);\n",
              "    box-shadow: none;\n",
              "  }\n",
              "\n",
              "  .colab-df-spinner {\n",
              "    border: 2px solid var(--fill-color);\n",
              "    border-color: transparent;\n",
              "    border-bottom-color: var(--fill-color);\n",
              "    animation:\n",
              "      spin 1s steps(1) infinite;\n",
              "  }\n",
              "\n",
              "  @keyframes spin {\n",
              "    0% {\n",
              "      border-color: transparent;\n",
              "      border-bottom-color: var(--fill-color);\n",
              "      border-left-color: var(--fill-color);\n",
              "    }\n",
              "    20% {\n",
              "      border-color: transparent;\n",
              "      border-left-color: var(--fill-color);\n",
              "      border-top-color: var(--fill-color);\n",
              "    }\n",
              "    30% {\n",
              "      border-color: transparent;\n",
              "      border-left-color: var(--fill-color);\n",
              "      border-top-color: var(--fill-color);\n",
              "      border-right-color: var(--fill-color);\n",
              "    }\n",
              "    40% {\n",
              "      border-color: transparent;\n",
              "      border-right-color: var(--fill-color);\n",
              "      border-top-color: var(--fill-color);\n",
              "    }\n",
              "    60% {\n",
              "      border-color: transparent;\n",
              "      border-right-color: var(--fill-color);\n",
              "    }\n",
              "    80% {\n",
              "      border-color: transparent;\n",
              "      border-right-color: var(--fill-color);\n",
              "      border-bottom-color: var(--fill-color);\n",
              "    }\n",
              "    90% {\n",
              "      border-color: transparent;\n",
              "      border-bottom-color: var(--fill-color);\n",
              "    }\n",
              "  }\n",
              "</style>\n",
              "\n",
              "      <script>\n",
              "        async function quickchart(key) {\n",
              "          const quickchartButtonEl =\n",
              "            document.querySelector('#' + key + ' button');\n",
              "          quickchartButtonEl.disabled = true;  // To prevent multiple clicks.\n",
              "          quickchartButtonEl.classList.add('colab-df-spinner');\n",
              "          try {\n",
              "            const charts = await google.colab.kernel.invokeFunction(\n",
              "                'suggestCharts', [key], {});\n",
              "          } catch (error) {\n",
              "            console.error('Error during call to suggestCharts:', error);\n",
              "          }\n",
              "          quickchartButtonEl.classList.remove('colab-df-spinner');\n",
              "          quickchartButtonEl.classList.add('colab-df-quickchart-complete');\n",
              "        }\n",
              "        (() => {\n",
              "          let quickchartButtonEl =\n",
              "            document.querySelector('#df-5a3ddccf-b893-4130-92ab-ab20cbfca316 button');\n",
              "          quickchartButtonEl.style.display =\n",
              "            google.colab.kernel.accessAllowed ? 'block' : 'none';\n",
              "        })();\n",
              "      </script>\n",
              "    </div>\n",
              "\n",
              "    </div>\n",
              "  </div>\n"
            ],
            "application/vnd.google.colaboratory.intrinsic+json": {
              "type": "dataframe",
              "summary": "{\n  \"name\": \"data\",\n  \"rows\": 4,\n  \"fields\": [\n    {\n      \"column\": \"ID Cliente\",\n      \"properties\": {\n        \"dtype\": \"string\",\n        \"num_unique_values\": 3,\n        \"samples\": [\n          \"7043\",\n          \"9995-HOTOH\",\n          \"1\"\n        ],\n        \"semantic_type\": \"\",\n        \"description\": \"\"\n      }\n    },\n    {\n      \"column\": \"G\\u00e9nero\",\n      \"properties\": {\n        \"dtype\": \"string\",\n        \"num_unique_values\": 4,\n        \"samples\": [\n          2,\n          \"3555\",\n          \"7043\"\n        ],\n        \"semantic_type\": \"\",\n        \"description\": \"\"\n      }\n    },\n    {\n      \"column\": \"Servicio de Internet\",\n      \"properties\": {\n        \"dtype\": \"string\",\n        \"num_unique_values\": 4,\n        \"samples\": [\n          3,\n          \"3096\",\n          \"7043\"\n        ],\n        \"semantic_type\": \"\",\n        \"description\": \"\"\n      }\n    },\n    {\n      \"column\": \"Tipo de Contrato\",\n      \"properties\": {\n        \"dtype\": \"string\",\n        \"num_unique_values\": 4,\n        \"samples\": [\n          3,\n          \"3875\",\n          \"7043\"\n        ],\n        \"semantic_type\": \"\",\n        \"description\": \"\"\n      }\n    },\n    {\n      \"column\": \"M\\u00e9todo de Pago\",\n      \"properties\": {\n        \"dtype\": \"string\",\n        \"num_unique_values\": 4,\n        \"samples\": [\n          4,\n          \"2365\",\n          \"7043\"\n        ],\n        \"semantic_type\": \"\",\n        \"description\": \"\"\n      }\n    },\n    {\n      \"column\": \"Rango de Contrato\",\n      \"properties\": {\n        \"dtype\": \"string\",\n        \"num_unique_values\": 4,\n        \"samples\": [\n          8,\n          \"1854\",\n          \"7043\"\n        ],\n        \"semantic_type\": \"\",\n        \"description\": \"\"\n      }\n    }\n  ]\n}"
            }
          },
          "metadata": {},
          "execution_count": 6
        }
      ]
    },
    {
      "cell_type": "code",
      "source": [
        "# Eliminación de columnas que no correlacionado al evento.\n",
        "data = data.drop(columns=['ID Cliente','Costo Diario','Duración del Contrato (meses)'])"
      ],
      "metadata": {
        "id": "LE0obX6vkn0d"
      },
      "execution_count": 7,
      "outputs": []
    },
    {
      "cell_type": "code",
      "source": [
        "#información general del conjunto de datos después de eliminar columnas\n",
        "data.info()"
      ],
      "metadata": {
        "colab": {
          "base_uri": "https://localhost:8080/"
        },
        "id": "MUpi4ttjk5fy",
        "outputId": "222eb4a1-54ae-4643-96ec-a75b7227ec09"
      },
      "execution_count": 8,
      "outputs": [
        {
          "output_type": "stream",
          "name": "stdout",
          "text": [
            "<class 'pandas.core.frame.DataFrame'>\n",
            "RangeIndex: 7043 entries, 0 to 7042\n",
            "Data columns (total 21 columns):\n",
            " #   Column                             Non-Null Count  Dtype  \n",
            "---  ------                             --------------  -----  \n",
            " 0   Abandono                           7043 non-null   int64  \n",
            " 1   Género                             7043 non-null   object \n",
            " 2   Mayor de 65 años                   7043 non-null   bool   \n",
            " 3   Tiene Pareja                       7043 non-null   int64  \n",
            " 4   Tiene Dependientes                 7043 non-null   int64  \n",
            " 5   Servicio Telefónico                7043 non-null   int64  \n",
            " 6   Múltiples Líneas                   7043 non-null   int64  \n",
            " 7   Servicio de Internet               7043 non-null   object \n",
            " 8   Seguridad en Línea                 7043 non-null   int64  \n",
            " 9   Respaldo en Línea                  7043 non-null   int64  \n",
            " 10  Protección del Dispositivo         7043 non-null   int64  \n",
            " 11  Soporte Técnico                    7043 non-null   int64  \n",
            " 12  TV por Cable                       7043 non-null   int64  \n",
            " 13  Streaming de Películas             7043 non-null   int64  \n",
            " 14  Tipo de Contrato                   7043 non-null   object \n",
            " 15  Facturación Sin Papel              7043 non-null   int64  \n",
            " 16  Método de Pago                     7043 non-null   object \n",
            " 17  Costo Mensual                      7043 non-null   float64\n",
            " 18  Costo Total                        7043 non-null   float64\n",
            " 19  Rango de Contrato                  7043 non-null   object \n",
            " 20  Cantidad de Servicios Contratados  7043 non-null   int64  \n",
            "dtypes: bool(1), float64(2), int64(13), object(5)\n",
            "memory usage: 1.1+ MB\n"
          ]
        }
      ]
    },
    {
      "cell_type": "code",
      "source": [
        "import matplotlib.pyplot as plt\n",
        "import seaborn as sns\n",
        "\n",
        "plt.figure(figsize=(15,10))\n",
        "\n",
        "columnas_numericas = [\n",
        "    'Costo Total',\n",
        "    'Costo Mensual',\n",
        "    'Cantidad de Servicios Contratados'\n",
        "]\n",
        "\n",
        "for i, columna in enumerate(columnas_numericas, 1):\n",
        "    plt.subplot(2, 2, i)\n",
        "    sns.boxplot(x='Abandono', y=columna, data=data, palette='Set2')\n",
        "    plt.xlabel('Abandono')\n",
        "    plt.title(f'Boxplot de {columna} por Abandono')\n",
        "    plt.xticks([0, 1], ['No abandonan', 'Abandonan'])\n",
        "    plt.tight_layout()\n",
        "plt.show()"
      ],
      "metadata": {
        "colab": {
          "base_uri": "https://localhost:8080/",
          "height": 1000
        },
        "id": "YqUYt37Gk_WZ",
        "outputId": "9c511379-b2d3-4265-addc-97e86b173542"
      },
      "execution_count": 9,
      "outputs": [
        {
          "output_type": "stream",
          "name": "stderr",
          "text": [
            "/tmp/ipython-input-2090551438.py:14: FutureWarning: \n",
            "\n",
            "Passing `palette` without assigning `hue` is deprecated and will be removed in v0.14.0. Assign the `x` variable to `hue` and set `legend=False` for the same effect.\n",
            "\n",
            "  sns.boxplot(x='Abandono', y=columna, data=data, palette='Set2')\n",
            "/tmp/ipython-input-2090551438.py:14: FutureWarning: \n",
            "\n",
            "Passing `palette` without assigning `hue` is deprecated and will be removed in v0.14.0. Assign the `x` variable to `hue` and set `legend=False` for the same effect.\n",
            "\n",
            "  sns.boxplot(x='Abandono', y=columna, data=data, palette='Set2')\n",
            "/tmp/ipython-input-2090551438.py:14: FutureWarning: \n",
            "\n",
            "Passing `palette` without assigning `hue` is deprecated and will be removed in v0.14.0. Assign the `x` variable to `hue` and set `legend=False` for the same effect.\n",
            "\n",
            "  sns.boxplot(x='Abandono', y=columna, data=data, palette='Set2')\n"
          ]
        },
        {
          "output_type": "display_data",
          "data": {
            "text/plain": [
              "<Figure size 1500x1000 with 3 Axes>"
            ],
            "image/png": "[encoded data removed]"
          },
          "metadata": {}
        }
      ]
    },
    {
      "cell_type": "code",
      "source": [
        "# distribución de las variables numéricas por Abandono(Crunch)\n",
        "plt.figure(figsize=(16,12))\n",
        "palette_colorblind = sns.color_palette(\"Set2\")[:2]\n",
        "# Histogramas por estado de Abandono\n",
        "for i, columna in enumerate(columnas_numericas, 1):\n",
        "    plt.subplot(2, 2, i)\n",
        "\n",
        "    sns.histplot(\n",
        "        data=data,\n",
        "        x=columna,\n",
        "        hue='Abandono',\n",
        "        multiple=\"stack\",\n",
        "        palette=palette_colorblind,\n",
        "        bins=30  # Número de bins\n",
        "    )\n",
        "\n",
        "    plt.title(f'Distribución de {columna} por Abandono', fontsize=10)\n",
        "    plt.xlabel(columna, fontsize=8)\n",
        "    plt.ylabel('Frecuencia', fontsize=8)\n",
        "    plt.xticks(fontsize=7)\n",
        "    plt.yticks(fontsize=7)\n",
        "\n",
        "plt.suptitle('Distribución de Variables Numéricas por Abandono', fontsize=14)\n",
        "plt.tight_layout()\n",
        "plt.show()\n",
        "\n",
        "# Análisis estadístico complementario\n",
        "for columna in columnas_numericas:\n",
        "    print(f\"\\nEstadísticas para {columna}:\")\n",
        "    print(data.groupby('Abandono')[columna].describe())"
      ],
      "metadata": {
        "id": "hzyc6e9mlclM"
      },
      "execution_count": null,
      "outputs": []
    },
    {
      "cell_type": "code",
      "source": [
        "# Comportamiento de las variables binarias relevantes\n",
        "variables_binarias = ['Tiene Pareja','Tiene Dependientes',\n",
        "                      'Múltiples Líneas', 'Seguridad en Línea',\n",
        "                      'Respaldo en Línea', 'Protección del Dispositivo']\n",
        "for columna in variables_binarias:\n",
        "    print(columna, data[columna].value_counts(normalize=True)*100)"
      ],
      "metadata": {
        "id": "MLylIeVnmExQ"
      },
      "execution_count": null,
      "outputs": []
    },
    {
      "cell_type": "code",
      "source": [
        "import seaborn as sns\n",
        "import matplotlib.pyplot as plt\n",
        "sns.color_palette(\"colorblind\")\n",
        "\n",
        "plt.figure(figsize=(16,12))\n",
        "for i, variable in enumerate(variables_binarias, 1):\n",
        "    plt.subplot(3, 2, i)\n",
        "    # Gráfico de distribución con abandono\n",
        "    data_plot = data.groupby([variable, 'Abandono']).size().unstack(fill_value=0)\n",
        "    data_plot.plot(kind='bar', stacked=True,\n",
        "                   color=sns.color_palette(\"Set2\"),\n",
        "                   ax=plt.gca())\n",
        "\n",
        "    plt.title(f'Distribución de {variable} por Abandono')\n",
        "    plt.xlabel(variable)\n",
        "    plt.ylabel('Cantidad')\n",
        "    plt.xticks(rotation=45)\n",
        "plt.tight_layout()\n",
        "plt.show()"
      ],
      "metadata": {
        "id": "UmlHwNk1mYit"
      },
      "execution_count": null,
      "outputs": []
    },
    {
      "cell_type": "markdown",
      "source": [
        "## *Evaluación del p-value:*\n"
      ],
      "metadata": {
        "id": "gp8zGcyEnB_a"
      }
    },
    {
      "cell_type": "code",
      "source": [
        "# Chi-cuadrado para medir dependencia\n",
        "from scipy.stats import chi2_contingency\n",
        "\n",
        "for columna in variables_binarias:\n",
        "    contingencia = pd.crosstab(data[columna], data['Abandono'])\n",
        "    chi2, p_valor, _, _ = chi2_contingency(contingencia)\n",
        "    print(f\"{columna}: p-valor = {p_valor}\")"
      ],
      "metadata": {
        "id": "fS6oy9BonEUc"
      },
      "execution_count": null,
      "outputs": []
    },
    {
      "cell_type": "markdown",
      "source": [
        "\n",
        "Todas las variables tienen una relación estadísticamente significativa con el abandono.\n",
        "\n",
        "Hay evidencia de que estas características influyen en la probabilidad de abandon"
      ],
      "metadata": {
        "id": "nlx9IAKsnwGQ"
      }
    },
    {
      "cell_type": "code",
      "source": [
        "# Analisis de variables binarias de servicios adicionales\n",
        "servicios_internet = [\n",
        "    'Seguridad en Línea',\n",
        "    'Respaldo en Línea',\n",
        "    'Protección del Dispositivo',\n",
        "    'Soporte Técnico',\n",
        "    'TV por Cable',\n",
        "    'Streaming de Películas'\n",
        "]\n",
        "\n",
        "# Chi-cuadrado para Múltiples Líneas\n",
        "print(\"Dependencias con Múltiples Líneas:\")\n",
        "for servicio in servicios_internet:\n",
        "    contingencia = pd.crosstab(data['Múltiples Líneas'], data[servicio])\n",
        "    chi2, p_valor, _, _ = chi2_contingency(contingencia)\n",
        "    print(f\"{servicio}: p-valor = {p_valor}\")\n",
        "\n",
        "# Chi-cuadrado para Servicios de Internet\n",
        "print(\"\\nDependencias entre Servicios de Internet:\")\n",
        "for i in range(len(servicios_internet)):\n",
        "    for j in range(i+1, len(servicios_internet)):\n",
        "        servicio1 = servicios_internet[i]\n",
        "        servicio2 = servicios_internet[j]\n",
        "        contingencia = pd.crosstab(data[servicio1], data[servicio2])\n",
        "        chi2, p_valor, _, _ = chi2_contingency(contingencia)\n",
        "        print(f\"{servicio1} vs {servicio2}: p-valor = {p_valor}\")"
      ],
      "metadata": {
        "id": "cQpQPumboBGU"
      },
      "execution_count": null,
      "outputs": []
    },
    {
      "cell_type": "code",
      "source": [
        "plt.figure(figsize=(20,20))\n",
        "corr = data[servicios_internet].corr()\n",
        "print(\"Distribución de correlaciones entre los Servicios de Internet:\")\n",
        "print(corr)\n",
        "print('\\n')\n",
        "# Heatmap de correlación\n",
        "print(\"Mapa de calor de correlación entre Servicios de Internet:\")\n",
        "plt.subplot(2,1,1)\n",
        "\n",
        "sns.heatmap(\n",
        "    data[servicios_internet].corr(),\n",
        "    annot=True,\n",
        "    cmap='coolwarm',\n",
        "    linewidths=0.5,   # Separación entre celdas\n",
        "    fmt='.2f',        # Formato de números\n",
        "    square=True,      # Celdas cuadradas\n",
        "    cbar_kws={'label': 'Correlación'},\n",
        "    annot_kws={\n",
        "        'size': 8,    # Tamaño de fuente\n",
        "        'weight': 'bold',\n",
        "        'color': 'black'\n",
        "    }\n",
        ")\n",
        "plt.title('Correlación entre Servicios de Internet')\n",
        "\n",
        "# Distribución de servicios\n",
        "plt.subplot(2,1,2)\n",
        "servicios_count = data[servicios_internet].sum()\n",
        "sns.barplot(x=servicios_count.index, y=servicios_count.values, palette='viridis')\n",
        "plt.title('Cantidad de Servicios Contratados')\n",
        "plt.xticks(rotation=45)\n",
        "plt.ylabel('Cantidad contratada')\n",
        "plt.xlabel('Tipo de servicio')\n",
        "\n",
        "plt.tight_layout()\n",
        "plt.show()"
      ],
      "metadata": {
        "id": "JhgwFYVDokD1"
      },
      "execution_count": null,
      "outputs": []
    },
    {
      "cell_type": "code",
      "source": [
        "def analisis_abandono_servicios(servicios):\n",
        "    resultados = {}\n",
        "    for servicio in servicios:\n",
        "        abandono_con_servicio = data[data[servicio] == 1]['Abandono'].mean()\n",
        "        abandono_sin_servicio = data[data[servicio] == 0]['Abandono'].mean()\n",
        "\n",
        "        resultados[servicio] = {\n",
        "            'Abandono con servicio': abandono_con_servicio,\n",
        "            'Abandono sin servicio': abandono_sin_servicio,\n",
        "            'Diferencia': abandono_con_servicio - abandono_sin_servicio\n",
        "        }\n",
        "\n",
        "    return pd.DataFrame.from_dict(resultados, orient='index')\n",
        "\n",
        "# Análisis de abandono\n",
        "print(\"Análisis de Abandono por Servicios:\")\n",
        "print(analisis_abandono_servicios(servicios_internet))"
      ],
      "metadata": {
        "id": "DX9n1Ir7qXr7"
      },
      "execution_count": null,
      "outputs": []
    },
    {
      "cell_type": "code",
      "source": [
        "# Número de servicios contratados\n",
        "data['Servicios_Contratados'] = data[servicios_internet].sum(axis=1)\n",
        "\n",
        "plt.figure(figsize=(10,6))\n",
        "sns.boxplot(x='Servicios_Contratados', y='Costo Mensual', hue='Abandono', data=data, palette='Set2')\n",
        "plt.xlabel('Servicios Contratados')\n",
        "plt.title('Servicios Contratados vs Costo Mensual y Abandono')\n",
        "plt.show()"
      ],
      "metadata": {
        "id": "HBSrmSJWqmNm"
      },
      "execution_count": null,
      "outputs": []
    },
    {
      "cell_type": "markdown",
      "source": [
        "Analisis de Servicios adicionales de Servicio Telefónico e Internet\n",
        "\n",
        "Todos los servicios reducen la probabilidad de abandono\n",
        "Priorizar Seguridad en Línea y Soporte Técnico\n",
        "Servicios con alta correlación pueden ser empaquetados"
      ],
      "metadata": {
        "id": "iQhhxlAWuNdZ"
      }
    },
    {
      "cell_type": "code",
      "source": [
        "# Variables categóricas\n",
        "categoricas = ['Género', 'Servicio de Internet', 'Tipo de Contrato', 'Método de Pago', 'Rango de Contrato']\n",
        "plt.figure(figsize=(16,20))\n",
        "\n",
        "for i, variable in enumerate(categoricas, 1):\n",
        "    plt.subplot(3, 2, i)\n",
        "\n",
        "    # Gráfico de distribución con abandono\n",
        "    data_plot = data.groupby([variable, 'Abandono']).size().unstack(fill_value=0)\n",
        "    data_plot_percent = data_plot.div(data_plot.sum(axis=1), axis=0) * 100\n",
        "\n",
        "    data_plot_percent.plot(kind='bar', stacked=True, ax=plt.gca())\n",
        "    plt.title(f'Distribución de Abandono por {variable}')\n",
        "    plt.xlabel(variable)\n",
        "    plt.ylabel('Porcentaje')\n",
        "    plt.legend(title='Abandono', labels=['No Abandono', 'Abandono'])\n",
        "    plt.xticks(rotation=45)\n",
        "\n",
        "plt.tight_layout()\n",
        "plt.show()"
      ],
      "metadata": {
        "id": "zOTcsUhgqzSb"
      },
      "execution_count": null,
      "outputs": []
    },
    {
      "cell_type": "code",
      "source": [
        "# Chi-cuadrado para evaluar dependencia\n",
        "from scipy.stats import chi2_contingency\n",
        "\n",
        "for variable in categoricas:\n",
        "    contingencia = pd.crosstab(data[variable], data['Abandono'])\n",
        "    chi2, p_value, dof, expected = chi2_contingency(contingencia)\n",
        "\n",
        "    print(f\"\\nVariable: {variable}\")\n",
        "    print(f\"Chi-cuadrado: {chi2}\")\n",
        "    print(f\"P-value: {p_value}\")\n",
        "    print(\"Significativa:\" + \" Sí\" if p_value < 0.05 else \" No\")"
      ],
      "metadata": {
        "id": "kMI3tHqFv_7W"
      },
      "execution_count": null,
      "outputs": []
    },
    {
      "cell_type": "markdown",
      "source": [
        "# *Información Mutua con Variable Abandono*"
      ],
      "metadata": {
        "id": "pT-qOrFYwHq4"
      }
    },
    {
      "cell_type": "code",
      "source": [
        "from sklearn.feature_selection import mutual_info_classif\n",
        "from sklearn.preprocessing import LabelEncoder\n",
        "\n",
        "le = LabelEncoder()\n",
        "X_encoded = data[categoricas].apply(le.fit_transform)\n",
        "\n",
        "# Calcular información mutua\n",
        "mi_scores = mutual_info_classif(X_encoded, data['Abandono'])\n",
        "\n",
        "# Visualizar\n",
        "plt.figure(figsize=(10,6))\n",
        "plt.bar(categoricas, mi_scores)\n",
        "plt.title('Información Mutua con Variable Abandono')\n",
        "plt.xlabel('Variables Categóricas')\n",
        "plt.ylabel('Puntuación de Información Mutua')\n",
        "plt.show()\n",
        "\n",
        "# Imprimir scores\n",
        "for var, score in zip(categoricas, mi_scores):\n",
        "    print(f\"{var}: {score}\")"
      ],
      "metadata": {
        "id": "J8xVmMNgwCpw"
      },
      "execution_count": null,
      "outputs": []
    },
    {
      "cell_type": "code",
      "source": [
        "# Análisis de la tasa de abandono por rango de contrato\n",
        "\n",
        "plt.figure(figsize=(10,6))\n",
        "churn_by_contract = data.groupby('Rango de Contrato')['Abandono'].mean()\n",
        "churn_by_contract.plot(kind='bar')\n",
        "plt.title('Tasa de Abandono por Rango de Contrato')\n",
        "plt.ylabel('Tasa de Abandono')\n",
        "plt.xlabel('Rango de Contrato')\n",
        "plt.tight_layout()\n",
        "plt.show()"
      ],
      "metadata": {
        "id": "c2DPAoaBwbNv"
      },
      "execution_count": null,
      "outputs": []
    },
    {
      "cell_type": "markdown",
      "source": [
        "# *Detección y tratamiento de outliers*"
      ],
      "metadata": {
        "id": "-05DnQv6weVB"
      }
    },
    {
      "cell_type": "code",
      "source": [
        "def agrupar_por_churn(rango):\n",
        "    if rango in ['0-10', '11-20']:\n",
        "        return 'Riesgo Alto'\n",
        "    elif rango in ['21-30', '31-40']:\n",
        "        return 'Riesgo Medio'\n",
        "    else:\n",
        "        return 'Riesgo Bajo'\n",
        "\n",
        "data['Rango_Contrato'] = data['Rango de Contrato'].apply(agrupar_por_churn)\n",
        "#Eliminar columna original\n",
        "data = data.drop(columns=['Rango de Contrato'])"
      ],
      "metadata": {
        "id": "65N_JRaawgkZ"
      },
      "execution_count": null,
      "outputs": []
    },
    {
      "cell_type": "code",
      "source": [
        "import numpy as np\n",
        "from scipy import stats\n",
        "# Transformaciones\n",
        "data['log_costo_total'] = np.log1p(data['Costo Total'])\n",
        "data['sqr_costo_total']= np.sqrt(data['Costo Total'])\n",
        "#data['log_costo_total'] = stats.boxcox(data['Costo Total'] + 1)\n",
        "data['boxcx_costo_mensual'], _ = stats.boxcox(data['Costo Mensual'] + 1)\n",
        "data['sqr_costo_mensual'] = np.sqrt(data['Costo Mensual'])\n",
        "#data['sqr_duracion_contrato'] = np.sqrt(data['Duración del Contrato (meses)'])\n",
        "data['sqr_servicios'] = np.sqrt(data['Cantidad de Servicios Contratados'])\n",
        "data.head()"
      ],
      "metadata": {
        "id": "UeSkmjQrwkMK"
      },
      "execution_count": null,
      "outputs": []
    },
    {
      "cell_type": "code",
      "source": [
        "plt.figure(figsize=(15,10))\n",
        "\n",
        "# Columnas numéricas\n",
        "columnas_numericas = [\n",
        "    'log_costo_total',\n",
        "    'boxcx_costo_mensual',\n",
        "    'Cantidad de Servicios Contratados',\n",
        "    'sqr_costo_total',\n",
        "    'sqr_costo_mensual',\n",
        "    'sqr_servicios'\n",
        "]\n",
        "\n",
        "# Visualización de boxplots por estado de Abandono de las columnas numéricas\n",
        "plt.figure(figsize=(16,12))\n",
        "for i, columna in enumerate(columnas_numericas, 1):\n",
        "    plt.subplot(2, 3, i)\n",
        "    sns.boxplot(x='Abandono', y=columna, data=data, palette='Set2')\n",
        "    plt.xlabel('Abandono')\n",
        "    plt.title(f'Boxplot de {columna} por Abandono')\n",
        "    plt.xticks([0, 1], ['No Abandono', 'Abandono'])\n",
        "\n",
        "plt.tight_layout()\n",
        "plt.show()"
      ],
      "metadata": {
        "id": "rbQZmrGYxJXh"
      },
      "execution_count": null,
      "outputs": []
    },
    {
      "cell_type": "code",
      "source": [
        "#eliminar variables transformadas porque no logran una mejora significativa en la distribución\n",
        "data = data.drop(columns=['log_costo_total', 'boxcx_costo_mensual'])"
      ],
      "metadata": {
        "id": "VriHJlIfxqJQ"
      },
      "execution_count": null,
      "outputs": []
    },
    {
      "cell_type": "code",
      "source": [
        "#eliminar las variables originales, posteriormene se analizará si se vuelven a incluir\n",
        "data = data.drop(columns=['Costo Total','Costo Mensual','Cantidad de Servicios Contratados'])"
      ],
      "metadata": {
        "id": "YPlE2PPhx_Io"
      },
      "execution_count": null,
      "outputs": []
    },
    {
      "cell_type": "code",
      "source": [
        "data.columns"
      ],
      "metadata": {
        "id": "IhpR4OpiyCSO"
      },
      "execution_count": null,
      "outputs": []
    },
    {
      "cell_type": "markdown",
      "source": [
        "## *Codificación de variables categóricas*"
      ],
      "metadata": {
        "id": "9UpQPS1NyG3G"
      }
    },
    {
      "cell_type": "code",
      "source": [
        "# One-Hot Encoding con get_dummies\n",
        "categoricas = ['Género', 'Tipo de Contrato', 'Método de Pago','Rango_Contrato', 'Servicio de Internet']\n",
        "\n",
        "# Aplicación básica\n",
        "data_encoded = pd.get_dummies(data, columns=categoricas)\n",
        "\n",
        "# Opciones adicionales\n",
        "data_encoded = pd.get_dummies(\n",
        "    data,\n",
        "    columns=categoricas,\n",
        "    prefix=categoricas,  # Prefijo para nuevas columnas\n",
        "    drop_first=True     # Elimina primera categoría para evitar multicolinealidad\n",
        ")\n",
        "print(\"\\nColumnas después de One-Hot Encoding:\")\n",
        "print(data_encoded.shape)\n",
        "print(data_encoded.columns)"
      ],
      "metadata": {
        "id": "NMAOqiYEyJOr"
      },
      "execution_count": null,
      "outputs": []
    },
    {
      "cell_type": "code",
      "source": [
        "# analisis de correlación\n",
        "import seaborn as sns\n",
        "import matplotlib.pyplot as plt\n",
        "plt.figure(figsize=(16,12))\n",
        "correlation_matrix = data_encoded.corr()\n",
        "\n",
        "# Extraer variables de interés\n",
        "print(\"\\nVariables de Interes en Matriz de Correlación:\")\n",
        "print(correlation_matrix['Abandono'].sort_values(ascending=False))\n",
        "\n",
        "sns.heatmap(correlation_matrix,\n",
        "            annot=True,\n",
        "            fmt='.2f',\n",
        "            cmap='coolwarm',\n",
        "            square=True,\n",
        "            cbar_kws={\"shrink\": .8},\n",
        "            linewidths=0.5,   # Separación entre celdas\n",
        "            annot_kws={\n",
        "        'size': 8,    # Tamaño de fuente\n",
        "        'weight': 'bold',\n",
        "        'color': 'black'\n",
        "    }\n",
        "            )\n",
        "plt.title('Matriz de Correlación')\n",
        "plt.show()"
      ],
      "metadata": {
        "id": "NX9oQ4cpyNPm"
      },
      "execution_count": null,
      "outputs": []
    },
    {
      "cell_type": "markdown",
      "source": [
        "### **Correlaciones Positivas (Aumentan probabilidad de Abandono):**\n",
        "\n",
        "Tipo de Contrato_Mensual (0.405).\n",
        "\n",
        "Servicio de Internet_Fibra Óptica (0.308).\n",
        "\n",
        "sqr_costo_mensual (0.203).\n",
        "\n",
        "Facturación Sin Papel (0.192).\n",
        "\n",
        "TV por Cable (0.165).\n",
        "\n",
        "Streaming de Películas (0.163).\n",
        "\n",
        "Mayor de 65 años (0.151).\n",
        "\n",
        "\n",
        "#### **Correlaciones Negativas (Disminuyen probabilidad de Abandono):**\n",
        "\n",
        "Rango_Contrato_Riesgo Bajo (-0.284).\n",
        "\n",
        "Tipo de Contrato_Bianual (-0.302).\n",
        "\n",
        "Servicio de Internet_No internet service (-0.228).\n",
        "\n",
        "sqr_costo_total (-0.223).\n",
        "\n",
        "Tiene Dependientes (-0.164).\n",
        "\n",
        "Tiene Pareja (-0.150).\n",
        "\n",
        "Método de Pago_Tarjeta de crédito (automático) (-0.134)."
      ],
      "metadata": {
        "id": "OkH_4ThpyYo6"
      }
    },
    {
      "cell_type": "markdown",
      "source": [
        "# **Preparación para el modelado.**"
      ],
      "metadata": {
        "id": "r-ikgg39yvrF"
      }
    },
    {
      "cell_type": "code",
      "source": [
        "# Variable dependiente\n",
        "y = data_encoded['Abandono']\n",
        "# Variables independientes\n",
        "X = data_encoded.drop(columns=['Abandono'])"
      ],
      "metadata": {
        "id": "W1D50ilVyuY5"
      },
      "execution_count": null,
      "outputs": []
    },
    {
      "cell_type": "code",
      "source": [
        "from sklearn.model_selection import train_test_split\n",
        "from imblearn.over_sampling import SMOTE\n",
        "\n",
        "# División de datos\n",
        "X_train, X_test, y_train, y_test = train_test_split(X, y, test_size=0.2, random_state=42, stratify=y)"
      ],
      "metadata": {
        "id": "alPtz2RFy4XV"
      },
      "execution_count": null,
      "outputs": []
    },
    {
      "cell_type": "markdown",
      "source": [
        "### Balanceo de clase"
      ],
      "metadata": {
        "id": "xrbc4LNJzFX0"
      }
    },
    {
      "cell_type": "code",
      "source": [
        "# Contar distribución de clases\n",
        "distribucion = data_encoded['Abandono'].value_counts(normalize=True)\n",
        "print(distribucion)\n",
        "\n",
        "# Calcular ratio de desbalanceo\n",
        "ratio = len(data_encoded[data_encoded['Abandono']==0]) / len(data[data['Abandono']==1])\n",
        "print(f\"Ratio de desbalanceo: {ratio}\")"
      ],
      "metadata": {
        "id": "naPIDso9zHgR"
      },
      "execution_count": null,
      "outputs": []
    },
    {
      "cell_type": "markdown",
      "source": [
        "No se aplicará balanceo ya que tiene una ratio de desbalanceo moderado de 2.77 (no extremo), por lo tanto no es un desbalanceo crítico (generalmente se considera crítico >5)"
      ],
      "metadata": {
        "id": "_0Plr14WzPZI"
      }
    },
    {
      "cell_type": "markdown",
      "source": [
        "## **Entrenamiento de Modelos***\n",
        "\n",
        "### *3.1 Selección de los Modelos*\n",
        "#### Random Forest: ✅ Adecuado\n",
        "     Robusto con distintos tipos de variables.\n",
        "     Buena interpretabilidad.\n",
        "     Captura no linealidades\n",
        "\n",
        "##### CatBoost: ✅ Muy bueno\n",
        "      Excelente con variables categóricas.\n",
        "      Maneja binarias perfectamente.\n",
        "      Reduce sesgo de codificación.\n",
        "\n",
        "#### Xgboost: ✅ Excelente\n",
        "      Alto rendimiento predictivo.\n",
        "      Control de complejidad del modelo.\n",
        "      Rápido y escalable."
      ],
      "metadata": {
        "id": "FV9M9c0lzT0P"
      }
    },
    {
      "cell_type": "markdown",
      "source": [
        "#### Random Forest"
      ],
      "metadata": {
        "id": "QVB96dk79NaJ"
      }
    },
    {
      "cell_type": "code",
      "source": [
        "from sklearn.ensemble import RandomForestClassifier\n",
        "\n",
        "# Crear y entrenar el modelo Random Forest\n",
        "model_rf = RandomForestClassifier(n_estimators=100,\n",
        "                                  random_state=42)\n",
        "model_rf.fit(X_train, y_train)\n",
        "\n",
        "# Hacer predicciones\n",
        "y_pred_rf = model_rf.predict(X_test)"
      ],
      "metadata": {
        "id": "chforMkszQEC"
      },
      "execution_count": null,
      "outputs": []
    },
    {
      "cell_type": "markdown",
      "source": [
        "#### Catboost"
      ],
      "metadata": {
        "id": "tBPyluKU9exR"
      }
    },
    {
      "cell_type": "code",
      "source": [
        "%pip install catboost"
      ],
      "metadata": {
        "id": "2ROmrw-xz5PZ"
      },
      "execution_count": null,
      "outputs": []
    },
    {
      "cell_type": "code",
      "source": [
        "from catboost import CatBoostClassifier\n",
        "\n",
        "# Configuración del modelo CatBoost\n",
        "model_cb = CatBoostClassifier(\n",
        "    iterations=500,  # Aumentar iteraciones\n",
        "    learning_rate= 0.1,  # Probar diferentes tasas\n",
        "    depth=6,  # Variar profundidad\n",
        "    l2_leaf_reg=3,  # Regularización\n",
        "    random_seed=42,\n",
        "    verbose=0  # Quita mensajes de progreso\n",
        ")\n",
        "\n",
        "# Entrenar el modelo CatBoost\n",
        "model_cb.fit(X_train, y_train)\n",
        "# Hacer predicciones\n",
        "y_pred_cb = model_cb.predict(X_test)"
      ],
      "metadata": {
        "id": "lHT8gqgWz6YV"
      },
      "execution_count": null,
      "outputs": []
    },
    {
      "cell_type": "markdown",
      "source": [
        "#### Xgboost"
      ],
      "metadata": {
        "id": "RFo9xbIQ6qip"
      }
    },
    {
      "cell_type": "code",
      "source": [
        "%pip install xgboost"
      ],
      "metadata": {
        "id": "kw7khzKm0THD"
      },
      "execution_count": null,
      "outputs": []
    },
    {
      "cell_type": "code",
      "source": [
        "import xgboost as xgb\n",
        "\n",
        "# Entrenar el modelo XGBoost\n",
        "model_xgb = xgb.XGBClassifier(eval_metric='logloss', random_state=42)\n",
        "model_xgb.fit(X_train, y_train)\n",
        "# Hacer predicciones\n",
        "y_pred_xgb = model_xgb.predict(X_test)"
      ],
      "metadata": {
        "id": "qMkzimwl6wQI"
      },
      "execution_count": null,
      "outputs": []
    },
    {
      "cell_type": "markdown",
      "source": [
        "# **Evaluación de modelos**"
      ],
      "metadata": {
        "id": "alFqSNG-60xX"
      }
    },
    {
      "cell_type": "markdown",
      "source": [
        "#### Métricas Random Forest"
      ],
      "metadata": {
        "id": "1iCoiZ5M-c2b"
      }
    },
    {
      "cell_type": "code",
      "source": [
        "from sklearn.metrics import accuracy_score, precision_score, recall_score, f1_score, confusion_matrix, classification_report\n",
        "\n",
        "# Random Forest\n",
        "print(\"Métricas Random Forest:\")\n",
        "print(\"Accuracy:\", accuracy_score(y_test, y_pred_rf))\n",
        "print(\"Precision:\", precision_score(y_test, y_pred_rf))\n",
        "print(\"Recall:\", recall_score(y_test, y_pred_rf))\n",
        "print(\"F1-score:\", f1_score(y_test, y_pred_rf))\n",
        "print(\"Matriz de confusión:\\n\", confusion_matrix(y_test, y_pred_rf))\n",
        "print(classification_report(y_test, y_pred_rf))"
      ],
      "metadata": {
        "id": "T9i4sxna6zxy"
      },
      "execution_count": null,
      "outputs": []
    },
    {
      "cell_type": "markdown",
      "source": [
        "#### Métricas de CatBoost"
      ],
      "metadata": {
        "id": "ekvG8uuW-g1v"
      }
    },
    {
      "cell_type": "code",
      "source": [
        "# CatBoost\n",
        "print(\"\\nMétricas de CatBoost:\")\n",
        "print(\"Accuracy:\", accuracy_score(y_test, y_pred_cb))\n",
        "print(\"Precision:\", precision_score(y_test, y_pred_cb))\n",
        "print(\"Recall:\", recall_score(y_test, y_pred_cb))\n",
        "print(\"F1-score:\", f1_score(y_test, y_pred_cb))\n",
        "print(\"Matriz de confusión:\\n\", confusion_matrix(y_test, y_pred_cb))\n",
        "print(classification_report(y_test, y_pred_cb))"
      ],
      "metadata": {
        "id": "6kU-0tVI66qx"
      },
      "execution_count": null,
      "outputs": []
    },
    {
      "cell_type": "markdown",
      "source": [
        "#### Métricas XGBoost"
      ],
      "metadata": {
        "id": "dIQb88fQ_W_X"
      }
    },
    {
      "cell_type": "code",
      "source": [
        "# XGBoost\n",
        "print(\"\\nMetricas de XGBoost:\")\n",
        "print(\"Accuracy:\", accuracy_score(y_test, y_pred_xgb))\n",
        "print(\"Precision:\", precision_score(y_test, y_pred_xgb))\n",
        "print(\"Recall:\", recall_score(y_test, y_pred_xgb))\n",
        "print(\"F1-score:\", f1_score(y_test, y_pred_xgb))\n",
        "print(\"Matriz de confusión:\\n\", confusion_matrix(y_test, y_pred_xgb))\n",
        "print(classification_report(y_test, y_pred_xgb))"
      ],
      "metadata": {
        "id": "he9Gcs3-_aDL"
      },
      "execution_count": null,
      "outputs": []
    },
    {
      "cell_type": "markdown",
      "source": [
        "### Ajuste de modelos"
      ],
      "metadata": {
        "id": "u5Cd7Nch_dKn"
      }
    },
    {
      "cell_type": "markdown",
      "source": [
        "#### Random Forest"
      ],
      "metadata": {
        "id": "Buut3FrJ_iLR"
      }
    },
    {
      "cell_type": "code",
      "source": [
        "# Aumentar la complejidad del modelo\n",
        "model_ajustado_rf = RandomForestClassifier(\n",
        "    n_estimators=150,        # Más árboles\n",
        "    max_depth=10,            # Mayor profundidad máxima\n",
        "    min_samples_split=5,     # Menos muestras para dividir un nodo\n",
        "    min_samples_leaf=3,      # Menos muestras en una hoja\n",
        "    max_features='sqrt',     # Número de características a considerar en cada división\n",
        "    random_state=42\n",
        ")\n",
        "\n",
        "model_ajustado_rf.fit(X_train, y_train)\n",
        "y_pred_ajustado_rf= model_ajustado_rf.predict(X_test)"
      ],
      "metadata": {
        "id": "8YI5eDWl_fnX"
      },
      "execution_count": null,
      "outputs": []
    },
    {
      "cell_type": "markdown",
      "source": [
        "#### CatBoost"
      ],
      "metadata": {
        "id": "6W2aaNSy_oQn"
      }
    },
    {
      "cell_type": "code",
      "source": [
        "# Aumentar la complejidad y ajustar parámetros de CatBoost\n",
        "from catboost import CatBoostClassifier\n",
        "model_ajustado_cb = CatBoostClassifier(\n",
        "    iterations=500,          # Más iteraciones\n",
        "    learning_rate=0.01,     # Tasa de aprendizaje más baja\n",
        "    depth=8,                # Mayor profundidad\n",
        "    l2_leaf_reg=3,          # Regularización L2\n",
        "    random_seed=42,\n",
        "    verbose=0               # Quitar mensajes de progreso\n",
        ")\n",
        "model_ajustado_cb.fit(X_train, y_train)\n",
        "y_pred_ajustado_cb = model_ajustado_cb.predict(X_test)"
      ],
      "metadata": {
        "id": "RB-AdI6B_nV5"
      },
      "execution_count": null,
      "outputs": []
    },
    {
      "cell_type": "markdown",
      "source": [
        "#### XGBoost"
      ],
      "metadata": {
        "id": "koBd-FQw_tNy"
      }
    },
    {
      "cell_type": "code",
      "source": [
        "# Aumentar la complejidad y ajustar parámetros de XGBoost\n",
        "model_ajustado_xgb = xgb.XGBClassifier(\n",
        "    n_estimators=150,         # Más árboles\n",
        "    max_depth=10,             # Mayor profundidad máxima\n",
        "    learning_rate=0.05,       # Tasa de aprendizaje más baja\n",
        "    subsample=0.8,            # Porcentaje de muestras para cada árbol\n",
        "    colsample_bytree=0.8,     # Porcentaje de columnas para cada árbol\n",
        "    eval_metric='logloss',\n",
        "    random_state=42,\n",
        "    reg_alpha=0.1,          # Regularización L1\n",
        "    reg_lambda=1.0          # Regularización L2\n",
        ")\n",
        "\n",
        "model_ajustado_xgb.fit(X_train, y_train)\n",
        "y_pred_ajustado_xgb = model_ajustado_xgb.predict(X_test)"
      ],
      "metadata": {
        "id": "_Ai7SePQ_u6N"
      },
      "execution_count": null,
      "outputs": []
    },
    {
      "cell_type": "markdown",
      "source": [
        "### Evaluación de los modelos ajustados"
      ],
      "metadata": {
        "id": "9BJzf3ve_x3a"
      }
    },
    {
      "cell_type": "markdown",
      "source": [
        "#### Random Forest"
      ],
      "metadata": {
        "id": "udaBdmsD_12f"
      }
    },
    {
      "cell_type": "code",
      "source": [
        "from sklearn.metrics import accuracy_score, precision_score, recall_score, f1_score, confusion_matrix, classification_report\n",
        "# Random Forest\n",
        "print(\"Random Forest:\")\n",
        "print(\"Accuracy:\", accuracy_score(y_test, y_pred_ajustado_rf))\n",
        "print(\"Precision:\", precision_score(y_test, y_pred_ajustado_rf))\n",
        "print(\"Recall:\", recall_score(y_test, y_pred_ajustado_rf))\n",
        "print(\"F1-score:\", f1_score(y_test, y_pred_ajustado_rf))\n",
        "print(\"Matriz de confusión:\\n\", confusion_matrix(y_test, y_pred_ajustado_rf))\n",
        "print(classification_report(y_test, y_pred_ajustado_rf))"
      ],
      "metadata": {
        "id": "z-LEQdk5_0Et"
      },
      "execution_count": null,
      "outputs": []
    },
    {
      "cell_type": "markdown",
      "source": [
        "#### CatBoost"
      ],
      "metadata": {
        "id": "PQOpM604_7OO"
      }
    },
    {
      "cell_type": "code",
      "source": [
        "# CatBoost\n",
        "print(\"\\nCatBoost:\")\n",
        "print(\"Accuracy:\", accuracy_score(y_test, y_pred_ajustado_cb))\n",
        "print(\"Precision:\", precision_score(y_test, y_pred_ajustado_cb))\n",
        "print(\"Recall:\", recall_score(y_test, y_pred_ajustado_cb))\n",
        "print(\"F1-score:\", f1_score(y_test, y_pred_ajustado_cb))\n",
        "print(\"Matriz de confusión:\\n\", confusion_matrix(y_test, y_pred_ajustado_cb))\n",
        "print(classification_report(y_test, y_pred_ajustado_cb))"
      ],
      "metadata": {
        "id": "OPKIIXIQ_9gH"
      },
      "execution_count": null,
      "outputs": []
    },
    {
      "cell_type": "markdown",
      "source": [
        "#### XGBoost"
      ],
      "metadata": {
        "id": "vTedF9HB__u7"
      }
    },
    {
      "cell_type": "code",
      "source": [
        "print(\"\\nXGBoost:\")\n",
        "print(\"Accuracy:\", accuracy_score(y_test, y_pred_ajustado_xgb))\n",
        "print(\"Precision:\", precision_score(y_test, y_pred_ajustado_xgb))\n",
        "print(\"Recall:\", recall_score(y_test, y_pred_ajustado_xgb))\n",
        "print(\"F1-score:\", f1_score(y_test, y_pred_ajustado_xgb))\n",
        "print(\"Matriz de confusión:\\n\", confusion_matrix(y_test, y_pred_ajustado_xgb))\n",
        "print(classification_report(y_test, y_pred_ajustado_xgb))"
      ],
      "metadata": {
        "id": "RuU4Onr5ACQ5"
      },
      "execution_count": null,
      "outputs": []
    },
    {
      "cell_type": "markdown",
      "source": [
        "## Entrenamiento y evaluación en datos de entrenamiento:"
      ],
      "metadata": {
        "id": "kEw-LynSAFDZ"
      }
    },
    {
      "cell_type": "code",
      "source": [
        "# Entrenamiento y evaluación en datos de entrenamiento\n",
        "y_train_pred_ajustado_rf = model_ajustado_rf.predict(X_train)\n",
        "y_train_pred_ajustado_cb = model_ajustado_cb.predict(X_train)\n",
        "y_train_pred_xgb_ajustado = model_ajustado_xgb.predict(X_train)\n",
        "\n",
        "print(\"Random Forest - Entrenamiento:\", accuracy_score(y_train, y_train_pred_ajustado_rf))\n",
        "print(\"Random Forest - Prueba:\", accuracy_score(y_test, y_pred_ajustado_rf))\n",
        "\n",
        "print(\"CatBoost - Entrenamiento:\", accuracy_score(y_train, y_train_pred_ajustado_cb))\n",
        "print(\"CatBoost - Prueba:\", accuracy_score(y_test, y_pred_ajustado_cb))\n",
        "\n",
        "print(\"XGBoost - Entrenamiento:\", accuracy_score(y_train, y_train_pred_xgb_ajustado))\n",
        "print(\"XGBoost - Prueba:\", accuracy_score(y_test, y_pred_ajustado_xgb))"
      ],
      "metadata": {
        "id": "1_jff8TOAJLa"
      },
      "execution_count": null,
      "outputs": []
    },
    {
      "cell_type": "markdown",
      "source": [
        "### Análisis de Overfitting:\n",
        "\n",
        "#### Random Forest\n",
        "     Entrenamiento: 85.00%\n",
        "     Prueba: 79.42%\n",
        "     Diferencia: 5.58% (Moderado overfitting)\n",
        "\n",
        "#### CatBoost\n",
        "     Entrenamiento: 84.47%\n",
        "     Prueba: 79.35%\n",
        "     Diferencia: 5.12% (Moderado overfitting)\n",
        "\n",
        "#### XGBoost\n",
        "     Entrenamiento: 94.50%\n",
        "     Prueba: 77.86%\n",
        "     Diferencia: 16.64% (Alto overfitting)\n",
        "\n",
        "### **Interpretación**\n",
        "     XGBoost: Mayor sobreajuste\n",
        "     Random Forest: Mejor generalización\n",
        "     CatBoost: Equilibrio intermedi"
      ],
      "metadata": {
        "id": "S3pzfD1pAf_x"
      }
    },
    {
      "cell_type": "markdown",
      "source": [
        "## **Validación cruzada**\n"
      ],
      "metadata": {
        "id": "UMf8jaeuB0I3"
      }
    },
    {
      "cell_type": "code",
      "source": [
        "# Validación cruzada para evaluar la estabilidad del modelo\n",
        "from sklearn.model_selection import cross_val_score\n",
        "\n",
        "rf_scores = cross_val_score(model_ajustado_rf, X, y, cv=5, scoring='accuracy')\n",
        "print(\"Random Forest - Validación cruzada (accuracy):\", rf_scores.mean())\n",
        "\n",
        "cb_scores = cross_val_score(model_ajustado_cb, X, y, cv=5, scoring='accuracy')\n",
        "print(\"CatBoost - Validación cruzada (accuracy):\", cb_scores.mean())\n",
        "\n",
        "xgb_scores = cross_val_score(model_ajustado_xgb, X, y, cv=5, scoring='accuracy')\n",
        "print(\"XGBoost - Validación cruzada (accuracy):\", xgb_scores.mean())"
      ],
      "metadata": {
        "id": "I5CyLYjuAwuJ"
      },
      "execution_count": null,
      "outputs": []
    },
    {
      "cell_type": "markdown",
      "source": [
        "## **Dataframe de variables reducidas**\n",
        "Se considera reducir el dataset para disminuye la complejidad del modelo, reduce el ruido y el manejar el sobreajuste usando importancia de características"
      ],
      "metadata": {
        "id": "ERdsdldlCGar"
      }
    },
    {
      "cell_type": "code",
      "source": [
        "#importancia de las características\n",
        "importance = pd.DataFrame({\n",
        "    'feature': X.columns,\n",
        "    'importance': np.abs(model_rf.feature_importances_)\n",
        "}).sort_values('importance', ascending=False)\n",
        "print(importance.head())"
      ],
      "metadata": {
        "id": "spitgF1HCBuv"
      },
      "execution_count": null,
      "outputs": []
    },
    {
      "cell_type": "code",
      "source": [
        "features = X.columns\n",
        "importances = model_rf.feature_importances_\n",
        "#crear DataFrame X_reduced\n",
        "low_importance = [feature for feature, importance in zip(features, importances) if importance < 0.01]\n",
        "print(\"Variables a eliminar:\", low_importance)\n",
        "X_reduced = X.drop(columns=low_importance)"
      ],
      "metadata": {
        "id": "efenLjnFCXVq"
      },
      "execution_count": null,
      "outputs": []
    },
    {
      "cell_type": "markdown",
      "source": [
        "### Random forest con variables reducidas"
      ],
      "metadata": {
        "id": "YpAzv85cCaxe"
      }
    },
    {
      "cell_type": "code",
      "source": [
        "#Modelo Random Forest con las variables reducidas\n",
        "rdmforest_model_reducido = RandomForestClassifier(\n",
        "    n_estimators=150,\n",
        "    max_depth=10,\n",
        "    min_samples_split=5,\n",
        "    min_samples_leaf=3,\n",
        "    max_features='sqrt',\n",
        "    random_state=42\n",
        ")\n",
        "\n",
        "rdmforest_model_reducido.fit(X_reduced, y)\n",
        "y_pred_rf_reducido = rdmforest_model_reducido.predict(X_test.drop(columns=low_importance))"
      ],
      "metadata": {
        "id": "KoJeJLGWCZv7"
      },
      "execution_count": null,
      "outputs": []
    },
    {
      "cell_type": "markdown",
      "source": [
        "### CatBoost con variables reducidas"
      ],
      "metadata": {
        "id": "aXkNUCHeCvvB"
      }
    },
    {
      "cell_type": "code",
      "source": [
        "#Modelo CatBoost con las variables reducidas\n",
        "model_ajustado_cb_reducido = CatBoostClassifier(\n",
        "    iterations=500,\n",
        "    learning_rate=0.01,\n",
        "    depth=8,\n",
        "    l2_leaf_reg=3,\n",
        "    random_seed=42,\n",
        "    verbose=0\n",
        ")\n",
        "\n",
        "model_ajustado_cb_reducido.fit(X_reduced, y)\n",
        "y_pred_cb_reducido = model_ajustado_cb_reducido.predict(X_test.drop(columns=low_importance))"
      ],
      "metadata": {
        "id": "swn9-SVhCzD1"
      },
      "execution_count": null,
      "outputs": []
    },
    {
      "cell_type": "markdown",
      "source": [
        "### XGBoost con variables reducidas"
      ],
      "metadata": {
        "id": "DhyFDVmZC1n8"
      }
    },
    {
      "cell_type": "code",
      "source": [
        "#Modelo XGBoost con las variables reducidas\n",
        "model_ajustado_xgb_reducido = xgb.XGBClassifier(\n",
        "    n_estimators=150,\n",
        "    max_depth=10,\n",
        "    learning_rate=0.05,\n",
        "    subsample=0.8,\n",
        "    colsample_bytree=0.8,\n",
        "    eval_metric='logloss',\n",
        "    random_state=42,\n",
        "    reg_alpha=0.1,\n",
        "    reg_lambda=1.0\n",
        ")\n",
        "model_ajustado_xgb_reducido.fit(X_reduced, y)\n",
        "y_pred_xgb_reducido = model_ajustado_xgb_reducido.predict(X_test.drop(columns=low_importance))"
      ],
      "metadata": {
        "id": "FdXP7GFkC3oi"
      },
      "execution_count": null,
      "outputs": []
    },
    {
      "cell_type": "markdown",
      "source": [
        "### Evaluación de modelos de variables reducidas"
      ],
      "metadata": {
        "id": "sA12di5pC7C4"
      }
    },
    {
      "cell_type": "code",
      "source": [
        "#Comparar resultados de los modelos con variables reducidas\n",
        "print(\"Random Forest con variables reducidas:\")\n",
        "print(\"Accuracy:\", accuracy_score(y_test, y_pred_rf_reducido))\n",
        "print(\"Precision:\", precision_score(y_test, y_pred_rf_reducido))\n",
        "print(\"Recall:\", recall_score(y_test, y_pred_rf_reducido))\n",
        "print(\"F1-score:\", f1_score(y_test, y_pred_rf_reducido))\n",
        "print(\"Matriz de confusión:\\n\", confusion_matrix(y_test, y_pred_rf_reducido))\n",
        "print(classification_report(y_test, y_pred_rf_reducido))"
      ],
      "metadata": {
        "id": "J-4l1-mHC6tZ"
      },
      "execution_count": null,
      "outputs": []
    },
    {
      "cell_type": "code",
      "source": [
        "#Comparar resultados de los modelos con variables reducidas\n",
        "print(\"CatBoost con variables reducidas:\")\n",
        "print(\"Accuracy:\", accuracy_score(y_test, y_pred_cb_reducido))\n",
        "print(\"Precision:\", precision_score(y_test, y_pred_cb_reducido))\n",
        "print(\"Recall:\", recall_score(y_test, y_pred_cb_reducido))\n",
        "print(\"F1-score:\", f1_score(y_test, y_pred_cb_reducido))\n",
        "print(\"Matriz de confusión:\\n\", confusion_matrix(y_test, y_pred_cb_reducido))\n",
        "print(classification_report(y_test, y_pred_cb_reducido))"
      ],
      "metadata": {
        "id": "NYZh0ZmDDDR7"
      },
      "execution_count": null,
      "outputs": []
    },
    {
      "cell_type": "code",
      "source": [
        "#Comparar resultados de los modelos con variables reducidas\n",
        "print(\"XGBoost con variables reducidas:\")\n",
        "print(\"Accuracy:\", accuracy_score(y_test, y_pred_xgb_reducido))\n",
        "print(\"Precision:\", precision_score(y_test, y_pred_xgb_reducido))\n",
        "print(\"Recall:\", recall_score(y_test, y_pred_xgb_reducido))\n",
        "print(\"F1-score:\", f1_score(y_test, y_pred_xgb_reducido))\n",
        "print(\"Matriz de confusión:\\n\", confusion_matrix(y_test, y_pred_xgb_reducido))\n",
        "print(classification_report(y_test, y_pred_xgb_reducido))"
      ],
      "metadata": {
        "id": "bh42lClNDFEW"
      },
      "execution_count": null,
      "outputs": []
    },
    {
      "cell_type": "markdown",
      "source": [
        "XGBoost muestra la mejora significativa y se observa que la reducción de variables mejoró el sobreajuste. Tambien observamos que todos los modelos mejoraron su rendimiento.\n",
        "\n",
        "Se refuerza la idea que XGBoost con variables reducidas es el mejor modelo."
      ],
      "metadata": {
        "id": "SkR00VGuDM5V"
      }
    },
    {
      "cell_type": "markdown",
      "source": [
        "### Validación Cruzada con variables reducidas"
      ],
      "metadata": {
        "id": "aS49rA_iDQUf"
      }
    },
    {
      "cell_type": "code",
      "source": [
        "# Validación cruzada para evaluar la estabilidad del modelo con variables reducidas\n",
        "rf_reduced_scores = cross_val_score(rdmforest_model_reducido, X_reduced, y, cv=5, scoring='accuracy')\n",
        "print(\"Random Forest Reducido - Validación cruzada (accuracy):\", rf_reduced_scores.mean())\n",
        "print(\"CatBoost Reducido - Validación cruzada (accuracy):\", cross_val_score(model_ajustado_cb_reducido, X_reduced, y, cv=5, scoring='accuracy').mean())\n",
        "print(\"XGBoost Reducido - Validación cruzada (accuracy):\", cross_val_score(model_ajustado_xgb_reducido, X_reduced, y, cv=5, scoring='accuracy').mean())"
      ],
      "metadata": {
        "id": "avowoTAoDN9t"
      },
      "execution_count": null,
      "outputs": []
    },
    {
      "cell_type": "markdown",
      "source": [
        "XGBoost tambien técnicamente tiene un manejo eficiente de variables, capacidad de aprendizaje incremental y tratamiento robusto de datos no lineales."
      ],
      "metadata": {
        "id": "5nJIHTK-Db3l"
      }
    },
    {
      "cell_type": "markdown",
      "source": [
        "### Ajuste de umbral\n",
        "\n",
        "Realizar análisis de curva ROC para encontrar umbral óptimo que maximice rendimiento del modelo."
      ],
      "metadata": {
        "id": "505imwL1DeWq"
      }
    },
    {
      "cell_type": "code",
      "source": [
        "# Probabilidades de cada modelo sin cambios\n",
        "from sklearn.metrics import roc_curve, roc_auc_score\n",
        "\n",
        "y_prob_rf = model_rf.predict_proba(X_test)[:, 1]\n",
        "y_prob_cb = model_cb.predict_proba(X_test)[:, 1]\n",
        "y_prob_xgb = model_xgb.predict_proba(X_test)[:, 1]\n",
        "\n",
        "#Curva ROC y AUC para Random Forest\n",
        "fpr_rf, tpr_rf, _ = roc_curve(y_test, y_prob_rf)\n",
        "auc_rf = roc_auc_score(y_test, y_prob_rf)\n",
        "# Curva ROC y AUC para CatBoost\n",
        "fpr_cb, tpr_cb, _ = roc_curve(y_test, y_prob_cb)\n",
        "auc_cb = roc_auc_score(y_test, y_prob_cb)\n",
        "# Curva ROC y AUC para XGBoost\n",
        "fpr_xgb, tpr_xgb, _ = roc_curve(y_test, y_prob_xgb)\n",
        "auc_xgb = roc_auc_score(y_test, y_prob_xgb)\n",
        "\n",
        "# Graficar todas las curvas ROC\n",
        "# Paleta de colores accesible\n",
        "colores = {\n",
        "    'rf_color': '#1E90FF',     # Azul dodger\n",
        "    'cb_color': '#FF6B6B',\n",
        "    'linea_diagonal': '#808080',       # Gris\n",
        "    'relleno': '#87CEFA',              # Azul claro\n",
        "}\n",
        "plt.figure(figsize=(10, 6))\n",
        "plt.plot(fpr_rf, tpr_rf, color=colores['rf_color'], label=f'Random Forest (AUC={auc_rf:.2f})')\n",
        "plt.plot(fpr_xgb, tpr_xgb, label=f'XGBoost (AUC={auc_xgb:.2f})')\n",
        "plt.plot(fpr_cb, tpr_cb, color=colores['cb_color'], label=f'CatBoost(AUC={auc_cb:.2f})')\n",
        "plt.plot([0, 1], [0, 1], linestyle='--', color='gray')\n",
        "plt.title('Comparación de Curvas ROC')\n",
        "plt.xlabel('Tasa de Falsos Positivos')\n",
        "plt.ylabel('Tasa de Verdaderos Positivos')\n",
        "plt.legend()\n",
        "# Sombreado\n",
        "plt.fill_between(\n",
        "    fpr_rf,\n",
        "    tpr_rf,\n",
        "    color=colores['relleno'],\n",
        "    alpha=0.3\n",
        ")\n",
        "\n",
        "\n",
        "plt.tight_layout()\n",
        "plt.show()\n",
        "\n",
        "print(f\"AUC Random Forest: {auc_rf:.2f}\")\n",
        "print(f\"AUC XGBoost: {auc_xgb:.2f}\")\n",
        "print(f\"AUC LightGBM: {auc_cb:.2f}\")"
      ],
      "metadata": {
        "id": "CIniQCJ2DchU"
      },
      "execution_count": null,
      "outputs": []
    },
    {
      "cell_type": "code",
      "source": [
        "# Probabilidades de cada modelo reducido\n",
        "\n",
        "\n",
        "y_prob_rf = rdmforest_model_reducido.predict_proba(X_test.drop(columns=low_importance))[:, 1]\n",
        "y_prob_cb = model_ajustado_cb_reducido.predict_proba(X_test.drop(columns=low_importance))[:, 1]\n",
        "y_prob_xgb = model_ajustado_xgb_reducido.predict_proba(X_test.drop(columns=low_importance))[:, 1]\n",
        "#Curva ROC y AUC para Random Forest\n",
        "fpr_rf, tpr_rf, _ = roc_curve(y_test, y_prob_rf)\n",
        "auc_rf = roc_auc_score(y_test, y_prob_rf)\n",
        "# Curva ROC y AUC para CatBoost\n",
        "fpr_cb, tpr_cb, _ = roc_curve(y_test, y_prob_cb)\n",
        "auc_cb = roc_auc_score(y_test, y_prob_cb)\n",
        "# Curva ROC y AUC para XGBoost\n",
        "fpr_xgb, tpr_xgb, _ = roc_curve(y_test, y_prob_xgb)\n",
        "auc_xgb = roc_auc_score(y_test, y_prob_xgb)\n",
        "\n",
        "# Graficar todas las curvas ROC\n",
        "plt.figure(figsize=(10, 6))\n",
        "plt.plot(fpr_rf, tpr_rf, color=colores['rf_color'], label=f'Random Forest (AUC={auc_rf:.2f})')\n",
        "plt.plot(fpr_xgb, tpr_xgb, label=f'XGBoost (AUC={auc_xgb:.2f})')\n",
        "plt.plot(fpr_cb, tpr_cb, color=colores['cb_color'], label=f'CatBoost(AUC={auc_cb:.2f})')\n",
        "plt.plot([0, 1], [0, 1], linestyle='--', color='gray')\n",
        "plt.title('Comparación de Curvas ROC de Modelos con Variables Reducidas')\n",
        "plt.xlabel('Tasa de Falsos Positivos')\n",
        "plt.ylabel('Tasa de Verdaderos Positivos')\n",
        "plt.legend()\n",
        "# Sombreado\n",
        "plt.fill_between(\n",
        "    fpr_rf,\n",
        "    tpr_rf,\n",
        "    color=colores['relleno'],\n",
        "    alpha=0.3\n",
        ")\n",
        "plt.tight_layout()\n",
        "plt.show()\n",
        "\n",
        "print(f\"AUC Random Forest Reducido: {auc_rf:.2f}\")\n",
        "print(f\"AUC XGBoost Reducido: {auc_xgb:.2f}\")\n",
        "print(f\"AUC LightGBM Reducido: {auc_cb:.2f}\")"
      ],
      "metadata": {
        "id": "zccGMiOnDqzx"
      },
      "execution_count": null,
      "outputs": []
    },
    {
      "cell_type": "code",
      "source": [
        "#Ajuste de umbral para mejorar precisión y recall\n",
        "y_proba = rdmforest_model_reducido.predict_proba(X_test.drop(columns=low_importance))[:, 1]\n",
        "\n",
        "umbral = 0.45\n",
        "y_pred_rf_umbral = (y_proba > umbral).astype(int)\n",
        "\n",
        "print(\"Random Forest con umbral ajustado (0.45):\")\n",
        "print(classification_report(y_test, y_pred_rf_umbral))"
      ],
      "metadata": {
        "id": "-jQ3jYYTDvlJ"
      },
      "execution_count": null,
      "outputs": []
    },
    {
      "cell_type": "code",
      "source": [
        "# Obtener probabilidades de abandono con CatBoost\n",
        "y_proba_cb = model_ajustado_cb_reducido.predict_proba(X_test.drop(columns=low_importance))[:, 1]\n",
        "umbral = 0.4\n",
        "y_pred_cb_umbral = (y_proba_cb > umbral).astype(int)\n",
        "print(\"CatBoost con umbral ajustado (0.4):\")\n",
        "print(classification_report(y_test, y_pred_cb_umbral))"
      ],
      "metadata": {
        "id": "gqi_Qip0Dxgy"
      },
      "execution_count": null,
      "outputs": []
    },
    {
      "cell_type": "code",
      "source": [
        "#Obtener probabilidades de abandono con XGBoost\n",
        "y_proba_xgb = model_ajustado_xgb_reducido.predict_proba(X_test.drop(columns=low_importance))[:, 1]\n",
        "umbral = 0.45\n",
        "y_pred_xgb_umbral = (y_proba_xgb > umbral).astype(int)\n",
        "print(\"XGBoost con umbral ajustado (0.4):\")\n",
        "print(classification_report(y_test, y_pred_xgb_umbral))"
      ],
      "metadata": {
        "id": "VGk92LI0DzYZ"
      },
      "execution_count": null,
      "outputs": []
    },
    {
      "cell_type": "markdown",
      "source": [
        " Análisis de Resultados\n",
        "\n",
        "XGBoost se destaca con la mejor precisión (0.96) y recall (0.95), lo que indica que es muy efectivo en la identificación de la clase positiva (1) y tiene un bajo número de falsos positivos.\n",
        "Random Forest tiene un buen rendimiento, especialmente en recall (0.90), lo que sugiere que es efectivo en la detección de positivos, aunque su precisión es un poco menor en comparación con XGBoost.\n",
        "CatBoost muestra un rendimiento sólido, pero no alcanza los niveles de XGBoost. Su precisión es alta, pero el recall es un poco más bajo, lo que puede indicar que está perdiendo algunos verdaderos positivos."
      ],
      "metadata": {
        "id": "9mYF7Yc2EAqs"
      }
    },
    {
      "cell_type": "markdown",
      "source": [
        "## **Interpretación**\n",
        "#### 6.1 Analisis de las variables relevantes de XGBoost Reducido:\n",
        "\n",
        "Se revisan las variables mas relevantes para la predicción de cancelación en el modelo XGBoost reducido (el cual ha sido el modelo con mejores resultados ) y Random Forest reducido, este enfoque complementado permite identificar los factores críticos que influyen en la deserción de clientes que permitan desarrollar estrategias de retención más efectivas y personalizadas. Con esta técnica se busca equilibrar la complejidad computacional, interpretabilidad y poder predictivo."
      ],
      "metadata": {
        "id": "AhTKGuT-EOX5"
      }
    },
    {
      "cell_type": "code",
      "source": [
        "importancia = model_ajustado_xgb_reducido.feature_importances_\n",
        "feature_importance = sorted(\n",
        "    zip(X.columns, importancia),\n",
        "    key=lambda x: x[1],\n",
        "    reverse=True\n",
        ")\n",
        "importance_xgb = pd.DataFrame(feature_importance, columns=['Feature', 'Importance'])\n",
        "print(\"\\nImportancia de las características en XGBoost con variables reducidas:\")\n",
        "print(importance_xgb.head(10))"
      ],
      "metadata": {
        "id": "-M9CtPdqEJha"
      },
      "execution_count": null,
      "outputs": []
    },
    {
      "cell_type": "code",
      "source": [
        "gain_xgb = model_ajustado_xgb_reducido.get_booster().get_score(importance_type='gain')\n",
        "gain_xgb = sorted(gain_xgb.items(), key=lambda x: x[1], reverse=True)\n",
        "importance_gain_xgb = pd.DataFrame(gain_xgb, columns=['Feature', 'Importance'])\n",
        "print(\"\\nImportancia de Características por Gain:\")\n",
        "print(importance_gain_xgb.head(10))"
      ],
      "metadata": {
        "id": "QUaC7WxAEe4W"
      },
      "execution_count": null,
      "outputs": []
    },
    {
      "cell_type": "code",
      "source": [
        "#Cobertura para modelo XGBoost\n",
        "cover_xgb = model_ajustado_xgb_reducido.get_booster().get_score(importance_type='cover')\n",
        "cover_xgb = sorted(cover_xgb.items(), key=lambda x: x[1], reverse=True)\n",
        "importance_cover_xgb = pd.DataFrame(cover_xgb, columns=['Feature', 'Importance'])\n",
        "print(\"\\nImportancia de Características por Cobertura:\")\n",
        "print(importance_cover_xgb.head(10))"
      ],
      "metadata": {
        "id": "8n2UC8WWE0jO"
      },
      "execution_count": null,
      "outputs": []
    },
    {
      "cell_type": "code",
      "source": [
        "def graficar_importancia_xgboost(model, X, top_n=10):\n",
        "    \"\"\"\n",
        "    Grafica la importancia de características de XGBoost desde diferentes perspectivas.\n",
        "\n",
        "    Parámetros:\n",
        "    - model: Modelo XGBoost entrenado\n",
        "    - X: DataFrame de características\n",
        "    - top_n: Número de características top a mostrar\n",
        "    - paleta: Paleta de colores para el gráfico\n",
        "    \"\"\"\n",
        "    # Obtener diferentes tipos de importancia\n",
        "    importancia_default = model_ajustado_xgb_reducido.feature_importances_\n",
        "    gain_importancia = model_ajustado_xgb_reducido.get_booster().get_score(importance_type='gain')\n",
        "    cover_importancia = model_ajustado_xgb_reducido.get_booster().get_score(importance_type='cover')\n",
        "\n",
        "    # Crear DataFrames\n",
        "    def crear_df_importancia(importancia_dict, columnas):\n",
        "        if isinstance(importancia_dict, np.ndarray):\n",
        "            df = pd.DataFrame({\n",
        "                'Feature': columnas,\n",
        "                'Importance': importancia_dict\n",
        "            })\n",
        "        else:\n",
        "            df = pd.DataFrame.from_dict(importancia_dict, orient='index', columns=['Importance'])\n",
        "            df['Feature'] = df.index\n",
        "\n",
        "        return df.sort_values('Importance', ascending=False).head(top_n)\n",
        "\n",
        "    # Preparar DataFrames\n",
        "    df_default = crear_df_importancia(importancia_default, X.columns)\n",
        "    df_gain = crear_df_importancia(gain_importancia, X.columns)\n",
        "    df_cover = crear_df_importancia(cover_importancia, X.columns)\n",
        "\n",
        "    # Configurar el gráfico\n",
        "    plt.figure(figsize=(16, 10))\n",
        "    plt.subplots_adjust(hspace=0.4, wspace=0.3)\n",
        "\n",
        "    # Paleta de colores\n",
        "    colores = plt.cm.get_cmap()(np.linspace(0, 1, top_n))\n",
        "\n",
        "    # Subplot 1: Importancia por Defecto\n",
        "    plt.subplot(2, 2, 1)\n",
        "    sns.barplot(x='Importance', y='Feature', data=df_default, palette=colores )\n",
        "    plt.title('Importancia por Defecto', fontweight='bold')\n",
        "    plt.xlabel('Importancia')\n",
        "    plt.ylabel('Características')\n",
        "\n",
        "    # Subplot 2: Importancia por Gain\n",
        "    plt.subplot(2, 2, 2)\n",
        "    sns.barplot(x='Importance', y='Feature', data=df_gain, palette=colores)\n",
        "    plt.title('Importancia por Gain', fontweight='bold')\n",
        "    plt.xlabel('Importancia Gain')\n",
        "    plt.ylabel('Características')\n",
        "\n",
        "    # Subplot 3: Importancia por Cobertura\n",
        "    plt.subplot(2, 2, 3)\n",
        "    sns.barplot(x='Importance', y='Feature', data=df_cover, palette=colores)\n",
        "    plt.title('Importancia por Cobertura', fontweight='bold')\n",
        "    plt.xlabel('Importancia de Cobertura')\n",
        "    plt.ylabel('Características')\n",
        "\n",
        "    # Subplot 4: Comparación de Importancias Normalizadas\n",
        "    plt.subplot(2, 2, 4)\n",
        "    # Normalizar importancias\n",
        "    dfs = [df_default, df_gain, df_cover]\n",
        "    nombres = ['Default', 'Gain', 'Cobertura']\n",
        "    for df, nombre, color in zip(dfs, nombres, colores):\n",
        "        sns.barplot(x='Importance', y='Feature', data=df, label=nombre, color=color)\n",
        "    plt.title('Comparación de Importancias Normalizadas', fontweight='bold')\n",
        "    plt.xlabel('Importancia Normalizada')\n",
        "    plt.ylabel('Características')\n",
        "    plt.legend(title='Tipo de Importancia')\n",
        "    plt.tight_layout()\n",
        "    plt.show()\n",
        "graficar_importancia_xgboost(model_ajustado_xgb_reducido, X_reduced, top_n=10)"
      ],
      "metadata": {
        "id": "rkPnD4zNFSp7"
      },
      "execution_count": null,
      "outputs": []
    },
    {
      "cell_type": "markdown",
      "source": [
        "El 'Tipo de Contrato_Mensual' es una característica dominante y significativa en los análisis de importancia (por Defecto, por Gain y por Cobertura), lo que indica su preponderancia en el comportamiento estudiado. Su valor de importancia es consistentemente el más alto en las tres métricas.\n",
        "Otras características que muestran una importancia consistentemente alta son el \"Servicio de Internet_Fibra Óptica\" y el \"Tipo de Contrato_Bianual\". Estas dos características se sitúan entre las principales, confirmando su relevancia después del \"Tipo de Contrato_Mensual\".\n",
        "Factores como \"Seguridad en Línea\", \"Rango_Contrato_Riesgo Bajo\" y \"sqr_costo_total\" también presentan una importancia notable en diversas métricas, sugiriendo que contribuyen de manera significativa, aunque en menor medida que las principales. • Características como el \"Método de Pago_Tarjeta de crédito (automático)\" y \"Múltiples Líneas\" adquieren una relevancia particular en la importancia por Cobertura, lo que sugiere que, aunque no son tan dominantes como el tipo de contrato o servicio de internet, su presencia es importante en términos de la frecuencia de uso en las decisiones o interacciones del modelo. En resumen, el tipo de contrato (especialmente mensual y bianual) y el tipo de servicio de internet (fibra óptica) son los factores más críticos y consistentes en la determinación de los resultados, seguidos por características relacionadas con la seguridad, el rango de duración del contrato y el costo."
      ],
      "metadata": {
        "id": "7XbFKeG-FYPM"
      }
    },
    {
      "cell_type": "markdown",
      "source": [
        "## Análisis complementario de variables relevantes Random Forest"
      ],
      "metadata": {
        "id": "R-22r3NfFbs6"
      }
    },
    {
      "cell_type": "code",
      "source": [
        "from sklearn.inspection import permutation_importance\n",
        "# Importancia nativa del modelo\n",
        "importancia_nativa = rdmforest_model_reducido.feature_importances_\n",
        "#imprimir 10 de las variables más importantes de la importancia_nativa\n",
        "features = X_reduced.columns\n",
        "importances = importancia_nativa\n",
        "feature_importance = sorted(zip(features, importances), key=lambda x: x[1], reverse=True)\n",
        "importance_df = pd.DataFrame(feature_importance, columns=['Feature', 'Importance'])\n",
        "print(\"\\nImportancia Nativa del Modelo:\")\n",
        "print(importance_df.head(10))\n",
        "\n",
        "# Cálculo de reducción de impureza\n",
        "importancia_impureza = rdmforest_model_reducido.feature_importances_\n",
        "# permutacion_importance para evaluar la importancia de las características\n",
        "#Imprimir 10 de las variables más importantes de la importancia_impureza\n",
        "features = X_reduced.columns\n",
        "importances = importancia_impureza\n",
        "feature_importance_impureza = sorted(zip(features, importances), key=lambda x: x[1], reverse=True)\n",
        "importance_df_impureza = pd.DataFrame(feature_importance_impureza, columns=['Feature', 'Importance'])\n",
        "print(\"\\nImportancia por Reducción de Impureza:\")\n",
        "print(importance_df_impureza.head(10))\n",
        "\n",
        "# Evaluar la importancia de las características con permutación\n",
        "rdmforest_model_reducido.fit(X_reduced, y)\n",
        "result = permutation_importance(\n",
        "    rdmforest_model_reducido,\n",
        "    X_test.drop(columns=low_importance),\n",
        "    y_test,\n",
        "    n_repeats=30,\n",
        "    random_state=42\n",
        ")\n",
        "importancia_permutacion = result.importances_mean\n",
        "#Imprimir 10 de las variables más importantes de la importancia_permutacion\n",
        "features = X_reduced.columns\n",
        "importances = importancia_permutacion\n",
        "feature_importance_permutacion = sorted(zip(features, importances), key=lambda x: x [1], reverse=True)\n",
        "importance_df_permutacion = pd.DataFrame(feature_importance_permutacion, columns=['Feature', 'Importance'])\n",
        "print(\"\\nImportancia por Permutación:\")\n",
        "print(importance_df_permutacion.head(10))"
      ],
      "metadata": {
        "id": "BX9rya7MFay0"
      },
      "execution_count": null,
      "outputs": []
    },
    {
      "cell_type": "code",
      "source": [
        "import matplotlib.pyplot as plt\n",
        "import seaborn as sns\n",
        "import numpy as np\n",
        "\n",
        "def graficar_importancias(importancia_nativa, importancia_impureza, importancia_permutacion,\n",
        "                           caracteristicas, paleta_colores='colorblind'):\n",
        "    \"\"\"\n",
        "    Grafica la importancia de características con colores inclusivos.\n",
        "\n",
        "    Parámetros:\n",
        "    - importancia_nativa: array de importancias nativas\n",
        "    - importancia_impureza: array de importancias por reducción de impureza\n",
        "    - importancia_permutacion: array de importancias por permutación\n",
        "    - caracteristicas: nombres de las características\n",
        "    - paleta_colores: paleta de colores accesible (defecto: colorblind)\n",
        "    \"\"\"\n",
        "    plt.figure(figsize=(14, 8))\n",
        "    sns.set_style(\"whitegrid\")\n",
        "\n",
        "    # Seleccionar paleta de colores inclusiva\n",
        "    if paleta_colores == 'colorblind':\n",
        "        colores = sns.color_palette(\"colorblind\")\n",
        "    elif paleta_colores == 'pastel':\n",
        "        colores = sns.color_palette(\"pastel\")\n",
        "    else:\n",
        "        colores = plt.cm.get_cmap(paleta_colores)(np.linspace(0, 1, 3))\n",
        "\n",
        "    # Calcular importancia total y ordenar en orden inverso\n",
        "    importancia_total = importancia_nativa + importancia_impureza + importancia_permutacion\n",
        "    orden = np.argsort(importancia_total)\n",
        "\n",
        "    # Crear gráfico de barras horizontales apiladas\n",
        "    plt.barh(caracteristicas[orden], importancia_nativa[orden],\n",
        "             label='Importancia Nativa', color=colores[0], alpha=0.8, height=0.8)\n",
        "    plt.barh(caracteristicas[orden], importancia_impureza[orden],\n",
        "             left=importancia_nativa[orden], label='Reducción de Impureza',\n",
        "             color=colores[1], alpha=0.8, height=0.8)\n",
        "    plt.barh(caracteristicas[orden], importancia_permutacion[orden],\n",
        "             left=importancia_nativa[orden]+importancia_impureza[orden],\n",
        "             label='Importancia por Permutación', color=colores[2], alpha=0.8, height=0.8)\n",
        "\n",
        "    # Configuraciones de estilo\n",
        "    plt.xlabel('Importancia', fontsize=12, fontweight='bold')\n",
        "    plt.ylabel('Características', fontsize=12, fontweight='bold')\n",
        "    plt.title('Importancia de Características (Orden Ascendente)',\n",
        "              fontsize=14, fontweight='bold')\n",
        "\n",
        "    # Leyenda adaptativa\n",
        "    plt.legend(loc='best', title='Tipos de Importancia',\n",
        "               title_fontsize=10, fontsize=9)\n",
        "\n",
        "    # Mejoras de accesibilidad\n",
        "    plt.gca().spines['top'].set_visible(False)\n",
        "    plt.gca().spines['right'].set_visible(False)\n",
        "\n",
        "    plt.tight_layout()\n",
        "    plt.show()\n",
        "\n",
        "# Ejemplo de uso\n",
        "graficar_importancias(\n",
        "    importancia_nativa=importancia_nativa,\n",
        "    importancia_impureza=importancia_impureza,\n",
        "    importancia_permutacion=importancia_permutacion,\n",
        "    caracteristicas=X_reduced.columns,\n",
        "    paleta_colores='colorblind'  # Opciones: 'colorblind', 'pastel', o cualquier mapa de colores de matplotlib\n",
        ")"
      ],
      "metadata": {
        "id": "9NB7oVkHFoHD"
      },
      "execution_count": null,
      "outputs": []
    },
    {
      "cell_type": "code",
      "source": [
        "# Variables top consistentes para random forest\n",
        "top_features_rf = set(X_reduced.columns[importancia_nativa > 0.01]) & set(X_reduced.columns[importancia_impureza > 0.01]) & set(X_reduced.columns[importancia_permutacion > 0.01])\n",
        "print(\"\\nVariables Top Consistentes en Importancias de Random Forest:\")\n",
        "print(top_features_rf)"
      ],
      "metadata": {
        "id": "H9eYH14PFy3O"
      },
      "execution_count": null,
      "outputs": []
    },
    {
      "cell_type": "markdown",
      "source": [
        "A pesar de que XGBoost fue seleccionado como el modelo de mejor rendimiento, la revisión y el análisis de la importancia de características utilizando Random Forest resultó ser valiosa. Esta aproximación no solo valida y reforza la confianza en los hallazgos iniciales, sino que también proporcionó perspectivas complementarias sobre los factores influyentes.\n",
        "\n",
        "El análisis con Random Forest confirmó la importancia robusta de características como el \"Tipo de Contrato_Mensual\" y el \"Servicio de Internet_Fibra Óptica\". Estas características demostraron ser las más influyentes en ambos algoritmos y a través de diversas métricas de importancia (Defecto, Gain, Cobertura en XGBoost; y Nativa, Reducción de Impureza, Permutación en Random Forest). Esta consistencia es un fuerte indicador de que estas variables poseen un impacto fundamental en el comportamiento modelado, independientemente de las particularidades algorítmicas de XGBoost o Random Forest.\n",
        "\n",
        "Además, el análisis con Random Forest reveló una mayor prominencia de las variables de costo, específicamente \"sqr_costo_total\" y \"sqr_costo_mensual\". Si bien estas ya aparecían en los análisis de XGBoost, Random Forest las elevó a las primeras posiciones, sugiriendo que, para este tipo de modelo, su influencia es particularmente significativa. Esta ayuda a evitar el sesgo de confiar únicamente en un algoritmo y ofrece una visión más robusta de los impulsores clave. Evaluar múltiples algoritmos para la importancia de características asegura que las conclusiones sean independientes del modelo y, por lo tanto, más confiables y accionables."
      ],
      "metadata": {
        "id": "_l79aHDsF0_l"
      }
    },
    {
      "cell_type": "markdown",
      "source": [
        "## Anexos"
      ],
      "metadata": {
        "id": "wJ6zbgXdF3Zi"
      }
    },
    {
      "cell_type": "code",
      "source": [
        "#Generación del Modelo XGBoost con las variables reducidas entrenado\n",
        "# Guardar el modelo entrenado\n",
        "import joblib\n",
        "joblib.dump(model_ajustado_xgb_reducido, 'modelo_xgboost_reducido.pkl')"
      ],
      "metadata": {
        "id": "B6_W72xyF21H"
      },
      "execution_count": null,
      "outputs": []
    },
    {
      "cell_type": "code",
      "source": [],
      "metadata": {
        "id": "CP84JAQ-F76S"
      },
      "execution_count": null,
      "outputs": []
    }
  ]
}